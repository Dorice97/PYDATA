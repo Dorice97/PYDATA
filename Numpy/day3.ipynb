{
 "cells": [
  {
   "cell_type": "code",
   "execution_count": 2,
   "id": "459a3dea",
   "metadata": {},
   "outputs": [],
   "source": [
    "import numpy as np"
   ]
  },
  {
   "cell_type": "code",
   "execution_count": 3,
   "id": "6f43ca2d",
   "metadata": {},
   "outputs": [
    {
     "name": "stdout",
     "output_type": "stream",
     "text": [
      "[[34  9 12]\n",
      " [36 14 10]\n",
      " [15 16 24]]\n"
     ]
    }
   ],
   "source": [
    "a=np.array([[34,9,12],[36,14,10],[15,16,24]])\n",
    "print(a)"
   ]
  },
  {
   "cell_type": "code",
   "execution_count": 11,
   "id": "c88f1008",
   "metadata": {},
   "outputs": [
    {
     "data": {
      "text/plain": [
       "array([36, 34, 24, 16, 15, 14, 12, 10,  9])"
      ]
     },
     "execution_count": 11,
     "metadata": {},
     "output_type": "execute_result"
    }
   ],
   "source": [
    "np.sort(a,axis=None)[::-1]"
   ]
  },
  {
   "cell_type": "code",
   "execution_count": 5,
   "id": "1c32b99b",
   "metadata": {},
   "outputs": [
    {
     "data": {
      "text/plain": [
       "array([[15,  9, 10],\n",
       "       [34, 14, 12],\n",
       "       [36, 16, 24]])"
      ]
     },
     "execution_count": 5,
     "metadata": {},
     "output_type": "execute_result"
    }
   ],
   "source": [
    "np.sort(a,axis=0)"
   ]
  },
  {
   "cell_type": "code",
   "execution_count": 7,
   "id": "eab657c4",
   "metadata": {},
   "outputs": [
    {
     "data": {
      "text/plain": [
       "array([[ 9, 12, 34],\n",
       "       [10, 14, 36],\n",
       "       [15, 16, 24]])"
      ]
     },
     "execution_count": 7,
     "metadata": {},
     "output_type": "execute_result"
    }
   ],
   "source": [
    "np.sort(a,axis=-1)"
   ]
  },
  {
   "cell_type": "code",
   "execution_count": 2,
   "id": "47152d25",
   "metadata": {},
   "outputs": [
    {
     "ename": "NameError",
     "evalue": "name 'np' is not defined",
     "output_type": "error",
     "traceback": [
      "\u001b[31m---------------------------------------------------------------------------\u001b[39m",
      "\u001b[31mNameError\u001b[39m                                 Traceback (most recent call last)",
      "\u001b[36mCell\u001b[39m\u001b[36m \u001b[39m\u001b[32mIn[2]\u001b[39m\u001b[32m, line 2\u001b[39m\n\u001b[32m      1\u001b[39m \u001b[38;5;66;03m#argsort\u001b[39;00m\n\u001b[32m----> \u001b[39m\u001b[32m2\u001b[39m y=\u001b[43mnp\u001b[49m.array([\u001b[32m4\u001b[39m,\u001b[32m5\u001b[39m,\u001b[32m1\u001b[39m,\u001b[32m7\u001b[39m,\u001b[32m9\u001b[39m])\n",
      "\u001b[31mNameError\u001b[39m: name 'np' is not defined"
     ]
    }
   ],
   "source": [
    "#argsort\n",
    "y=np.array([4,5,1,7,9])\n"
   ]
  },
  {
   "cell_type": "code",
   "execution_count": null,
   "id": "5b13bf25",
   "metadata": {},
   "outputs": [
    {
     "data": {
      "text/plain": [
       "array([2, 0, 1, 3, 4])"
      ]
     },
     "execution_count": 13,
     "metadata": {},
     "output_type": "execute_result"
    }
   ],
   "source": [
    "np.argsort(ny)"
   ]
  },
  {
   "cell_type": "code",
   "execution_count": 19,
   "id": "33df68d4",
   "metadata": {},
   "outputs": [],
   "source": [
    "#k smallest vallue in array\n",
    "num=np.array([5,1,3,9,7,4,8,20,19,14,30,78,18])\n"
   ]
  },
  {
   "cell_type": "code",
   "execution_count": 21,
   "id": "3c5cc390",
   "metadata": {},
   "outputs": [
    {
     "data": {
      "text/plain": [
       "array([ 1,  3,  4,  5,  7,  8,  9, 14, 18, 19, 20, 30, 78])"
      ]
     },
     "execution_count": 21,
     "metadata": {},
     "output_type": "execute_result"
    }
   ],
   "source": [
    "np.partition(num,2)"
   ]
  },
  {
   "cell_type": "code",
   "execution_count": 31,
   "id": "8fcfcea6",
   "metadata": {},
   "outputs": [],
   "source": [
    "arr4=np.array([1,3,5,8,7,9,4,6])"
   ]
  },
  {
   "cell_type": "code",
   "execution_count": 33,
   "id": "8659d5ec",
   "metadata": {},
   "outputs": [
    {
     "data": {
      "text/plain": [
       "array([1, 3, 4, 5, 6, 7, 8, 9])"
      ]
     },
     "execution_count": 33,
     "metadata": {},
     "output_type": "execute_result"
    }
   ],
   "source": [
    "np.sort(arr4)"
   ]
  },
  {
   "cell_type": "code",
   "execution_count": 36,
   "id": "d343fa58",
   "metadata": {},
   "outputs": [
    {
     "ename": "SyntaxError",
     "evalue": "invalid syntax (2951082309.py, line 1)",
     "output_type": "error",
     "traceback": [
      "  \u001b[36mCell\u001b[39m\u001b[36m \u001b[39m\u001b[32mIn[36]\u001b[39m\u001b[32m, line 1\u001b[39m\n\u001b[31m    \u001b[39m\u001b[31mindex 3 ; 5\u001b[39m\n          ^\n\u001b[31mSyntaxError\u001b[39m\u001b[31m:\u001b[39m invalid syntax\n"
     ]
    }
   ],
   "source": [
    "index 3 ; 5\n",
    "index 5 ; 7\n",
    "\n",
    "np.partition(arr4,(3,5))"
   ]
  },
  {
   "cell_type": "code",
   "execution_count": 39,
   "id": "0f1b7fcd",
   "metadata": {},
   "outputs": [
    {
     "data": {
      "text/plain": [
       "array([[6, 3, 7, 4, 6, 9],\n",
       "       [2, 6, 7, 4, 3, 7],\n",
       "       [7, 2, 5, 4, 1, 7],\n",
       "       [5, 1, 4, 0, 9, 5]], dtype=int32)"
      ]
     },
     "execution_count": 39,
     "metadata": {},
     "output_type": "execute_result"
    }
   ],
   "source": [
    "rand=np.random.RandomState(42)\n",
    "x=rand.randint(0,10,(4,6))\n",
    "x"
   ]
  },
  {
   "cell_type": "code",
   "execution_count": 40,
   "id": "c5085211",
   "metadata": {},
   "outputs": [
    {
     "data": {
      "text/plain": [
       "array([[3, 4, 6, 6, 7, 9],\n",
       "       [2, 3, 4, 6, 7, 7],\n",
       "       [1, 2, 4, 5, 7, 7],\n",
       "       [0, 1, 4, 5, 5, 9]], dtype=int32)"
      ]
     },
     "execution_count": 40,
     "metadata": {},
     "output_type": "execute_result"
    }
   ],
   "source": [
    "np.partition(x,3,axis=1)"
   ]
  },
  {
   "cell_type": "code",
   "execution_count": 46,
   "id": "e611edb3",
   "metadata": {},
   "outputs": [],
   "source": [
    "#Basic math operations\n",
    "r=np.random.random(5)\n",
    "w=np.random.random(5)\n"
   ]
  },
  {
   "cell_type": "code",
   "execution_count": 47,
   "id": "6147d268",
   "metadata": {},
   "outputs": [
    {
     "data": {
      "text/plain": [
       "array([0.67032487, 1.35234126, 1.01882228, 0.23363079, 0.99911372])"
      ]
     },
     "execution_count": 47,
     "metadata": {},
     "output_type": "execute_result"
    }
   ],
   "source": [
    "np.add(r,w)"
   ]
  },
  {
   "cell_type": "code",
   "execution_count": 51,
   "id": "90605bca",
   "metadata": {},
   "outputs": [
    {
     "data": {
      "text/plain": [
       "array([[ 1,  2,  6,  7],\n",
       "       [ 6,  7,  8,  9],\n",
       "       [11, 22, 55, 13]])"
      ]
     },
     "execution_count": 51,
     "metadata": {},
     "output_type": "execute_result"
    }
   ],
   "source": [
    "arr=np.array([[1,2,6,7],[6,7,8,9],[11,22,55,13]])\n",
    "arr"
   ]
  },
  {
   "cell_type": "code",
   "execution_count": 54,
   "id": "f087a5cd",
   "metadata": {},
   "outputs": [
    {
     "data": {
      "text/plain": [
       "np.int64(55)"
      ]
     },
     "execution_count": 54,
     "metadata": {},
     "output_type": "execute_result"
    }
   ],
   "source": [
    "arr[2,2]"
   ]
  },
  {
   "cell_type": "code",
   "execution_count": 55,
   "id": "d0598ee6",
   "metadata": {},
   "outputs": [
    {
     "data": {
      "text/plain": [
       "array([6, 8])"
      ]
     },
     "execution_count": 55,
     "metadata": {},
     "output_type": "execute_result"
    }
   ],
   "source": [
    "arr[1,0:-1:2]"
   ]
  }
 ],
 "metadata": {
  "kernelspec": {
   "display_name": "dorice",
   "language": "python",
   "name": "python3"
  },
  "language_info": {
   "codemirror_mode": {
    "name": "ipython",
    "version": 3
   },
   "file_extension": ".py",
   "mimetype": "text/x-python",
   "name": "python",
   "nbconvert_exporter": "python",
   "pygments_lexer": "ipython3",
   "version": "3.13.6"
  }
 },
 "nbformat": 4,
 "nbformat_minor": 5
}
