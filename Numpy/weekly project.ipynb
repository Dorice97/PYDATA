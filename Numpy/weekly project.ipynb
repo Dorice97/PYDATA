{
 "cells": [
  {
   "cell_type": "markdown",
   "metadata": {},
   "source": [
    "# Numpy Exercise 5\n",
    "\n",
    "### All of the questions in this exercise are attributed to rougier/numpy-100"
   ]
  },
  {
   "cell_type": "code",
   "execution_count": 2,
   "metadata": {},
   "outputs": [],
   "source": [
    "import numpy as np"
   ]
  },
  {
   "cell_type": "markdown",
   "metadata": {},
   "source": [
    "#### 61. Find the nearest value from a given value in an array (★★☆)"
   ]
  },
  {
   "cell_type": "code",
   "execution_count": 4,
   "metadata": {},
   "outputs": [
    {
     "name": "stdout",
     "output_type": "stream",
     "text": [
      "nearest value: 25\n"
     ]
    }
   ],
   "source": [
    "arr= np.array([20,34,25,40,38,23])\n",
    "target = 28\n",
    "\n",
    "y= (np.abs(arr - target)).argmin()\n",
    "nearest_value = arr[y]\n",
    "\n",
    "print(\"nearest value:\", nearest_value )\n"
   ]
  },
  {
   "cell_type": "markdown",
   "metadata": {},
   "source": [
    "#### 62. Considering two arrays with shape (1,3) and (3,1), how to compute their sum using an iterator? (★★☆)"
   ]
  },
  {
   "cell_type": "code",
   "execution_count": 13,
   "metadata": {},
   "outputs": [
    {
     "name": "stdout",
     "output_type": "stream",
     "text": [
      "[6 7 8]\n",
      "[[3]\n",
      " [5]\n",
      " [9]]\n",
      "result \n",
      " [[ 9 10 11]\n",
      " [11 12 13]\n",
      " [15 16 17]]\n"
     ]
    }
   ],
   "source": [
    "arr1=np.array([6,7,8])\n",
    "arr2=np.array([[3,],[5],[9]])\n",
    "\n",
    "print(arr1)\n",
    "print(arr2)\n",
    "\n",
    "num=np.nditer([arr1,arr2, None])\n",
    "for x, y, z in num:\n",
    "    z[...] = x + y\n",
    "\n",
    "result = num.operands[2]\n",
    "\n",
    "print(f\"result \\n\", result)\n",
    "\n"
   ]
  },
  {
   "cell_type": "markdown",
   "metadata": {},
   "source": [
    "#### 63. Create an array class that has a name attribute (★★☆)"
   ]
  },
  {
   "cell_type": "code",
   "execution_count": null,
   "metadata": {},
   "outputs": [],
   "source": [
    "s = np.array([3,4,5,6], name=\"numbers\")\n",
    "print(s)"
   ]
  },
  {
   "cell_type": "markdown",
   "metadata": {},
   "source": [
    "#### 64. Consider a given vector, how to add 1 to each element indexed by a second vector (be careful with repeated indices)? (★★★)"
   ]
  },
  {
   "cell_type": "code",
   "execution_count": 19,
   "metadata": {},
   "outputs": [
    {
     "name": "stdout",
     "output_type": "stream",
     "text": [
      "[0 5 2 5 4]\n"
     ]
    }
   ],
   "source": [
    "m = np.array([0,1,2,3,4])\n",
    "o = np.array([1,3,1,]) #has a repeated value 1\n",
    "\n",
    "np.add.at(x,o,1)\n",
    "print(x)"
   ]
  },
  {
   "cell_type": "markdown",
   "metadata": {},
   "source": [
    "#### 65. How to accumulate elements of a vector (X) to an array (F) based on an index list (I)? (★★★)"
   ]
  },
  {
   "cell_type": "code",
   "execution_count": null,
   "metadata": {},
   "outputs": [
    {
     "name": "stdout",
     "output_type": "stream",
     "text": [
      "[4 6 5]\n"
     ]
    }
   ],
   "source": [
    "X = np.array([1, 2, 3, 4, 5])       # values to accumulate\n",
    "index = np.array([0, 1, 0, 1, 2])     # index list\n",
    "F = np.zeros(3, dtype=int)          # an array with bins\n",
    "\n",
    "np.add.at(F, index, X)\n",
    "print(F)"
   ]
  },
  {
   "cell_type": "markdown",
   "metadata": {},
   "source": [
    "#### 66. Considering a (w,h,3) image of (dtype=ubyte), compute the number of unique colors (★★☆)"
   ]
  },
  {
   "cell_type": "code",
   "execution_count": 22,
   "metadata": {},
   "outputs": [
    {
     "name": "stdout",
     "output_type": "stream",
     "text": [
      "Number of unique colors: 4\n"
     ]
    }
   ],
   "source": [
    "w, h = 2, 2\n",
    "img = np.random.randint(0, 256, size=(w, h, 3), dtype=np.uint8)\n",
    "\n",
    "pixels = img.reshape(-1, 3) # Reshape into (N, 3) where N = total pixels\n",
    "\n",
    "# Find unique rows\n",
    "unique_colors = np.unique(pixels, axis=0)\n",
    "\n",
    "num_unique = len(unique_colors) # Count unique colors\n",
    "\n",
    "print(\"Number of unique colors:\", num_unique)"
   ]
  },
  {
   "cell_type": "markdown",
   "metadata": {},
   "source": [
    "#### 67. Considering a four dimensions array, how to get sum over the last two axis at once? (★★★)"
   ]
  },
  {
   "cell_type": "code",
   "execution_count": 26,
   "metadata": {},
   "outputs": [
    {
     "name": "stdout",
     "output_type": "stream",
     "text": [
      "[[47]]\n"
     ]
    }
   ],
   "source": [
    "arr=np.array([[[[3,4,1],[6,7,9],[3,6,8]]]])\n",
    "arr\n",
    "np.ndim(arr)\n",
    "\n",
    "result = np.sum(arr, axis=(2, 3))\n",
    "\n",
    "print(result)\n"
   ]
  },
  {
   "cell_type": "markdown",
   "metadata": {},
   "source": [
    "#### 68. Considering a one-dimensional vector D, how to compute means of subsets of D using a vector S of same size describing subset  indices? (★★★)"
   ]
  },
  {
   "cell_type": "code",
   "execution_count": null,
   "metadata": {},
   "outputs": [
    {
     "name": "stdout",
     "output_type": "stream",
     "text": [
      "1.0\n"
     ]
    }
   ],
   "source": [
    "d =np.array([12,45,50,60,67,55])\n",
    "\n",
    "s=np.array[0,0,1,1,2,2] #indices of the vector\n",
    "result=np.mean(s)\n",
    "\n",
    "print(result)"
   ]
  },
  {
   "cell_type": "markdown",
   "metadata": {},
   "source": [
    "#### 69. How to get the diagonal of a dot product? (★★★)"
   ]
  },
  {
   "cell_type": "code",
   "execution_count": 15,
   "metadata": {},
   "outputs": [
    {
     "name": "stdout",
     "output_type": "stream",
     "text": [
      "[0.89865269 1.08087158 0.72229868]\n"
     ]
    }
   ],
   "source": [
    "y = np.random.rand(3, 4)\n",
    "z = np.random.rand(4, 3)\n",
    "\n",
    "diag = np.einsum(\"ij,ji->i\", y, z)\n",
    "print(diag)"
   ]
  },
  {
   "cell_type": "markdown",
   "metadata": {},
   "source": [
    "#### 70. Consider the vector [1, 2, 3, 4, 5], how to build a new vector with 3 consecutive zeros interleaved between each value? (★★★)"
   ]
  },
  {
   "cell_type": "code",
   "execution_count": null,
   "metadata": {},
   "outputs": [
    {
     "name": "stdout",
     "output_type": "stream",
     "text": [
      "[1 0 0 0 2 0 0 0 3 0 0 0 4 0 0 0 5]\n"
     ]
    }
   ],
   "source": [
    "v = np.array([1, 2, 3, 4, 5])\n",
    "k = 3  # number of zeros to insert at each interval\n",
    "\n",
    "# New array length\n",
    "n = len(v) + (len(v)-1)*k\n",
    "out = np.zeros(n, dtype=v.dtype)\n",
    "\n",
    "# Place original values at specific positions\n",
    "out[::k+1] = v\n",
    "print(out)"
   ]
  },
  {
   "cell_type": "markdown",
   "metadata": {},
   "source": [
    "#### 71. Consider an array of dimension (5,5,3), how to mulitply it by an array with dimensions (5,5)? (★★★)"
   ]
  },
  {
   "cell_type": "code",
   "execution_count": 103,
   "metadata": {},
   "outputs": [
    {
     "name": "stdout",
     "output_type": "stream",
     "text": [
      "(5, 5, 3)\n"
     ]
    }
   ],
   "source": [
    "A = np.random.randn(5, 5, 3) \n",
    "B = np.random.randn(5, 5)      \n",
    "\n",
    "# Add a trailing axis to B so it broadcasts correctly\n",
    "C = A * B[:, :, None]\n",
    "\n",
    "print(C.shape)"
   ]
  },
  {
   "cell_type": "markdown",
   "metadata": {},
   "source": [
    "#### 72. How to swap two rows of an array? (★★★)"
   ]
  },
  {
   "cell_type": "code",
   "execution_count": 104,
   "metadata": {},
   "outputs": [
    {
     "name": "stdout",
     "output_type": "stream",
     "text": [
      "Original array:\n",
      " [[ 1  2  3]\n",
      " [ 4  5  6]\n",
      " [ 7  8  9]\n",
      " [10 11 12]]\n",
      "After swapping row 0 and row 2:\n",
      " [[ 7  8  9]\n",
      " [ 4  5  6]\n",
      " [ 1  2  3]\n",
      " [10 11 12]]\n"
     ]
    }
   ],
   "source": [
    "\n",
    "A = np.arange(1, 13).reshape(4, 3)\n",
    "print(\"Original array:\\n\", A)\n",
    "\n",
    "# swap row 0 and row 2\n",
    "A[[0, 2]] = A[[2, 0]]\n",
    "\n",
    "print(\"After swapping row 0 and row 2:\\n\", A)"
   ]
  },
  {
   "cell_type": "markdown",
   "metadata": {},
   "source": [
    "#### 73. Consider a set of 10 triplets describing 10 triangles (with shared vertices), find the set of unique line segments composing all the  triangles (★★★)"
   ]
  },
  {
   "cell_type": "code",
   "execution_count": 105,
   "metadata": {},
   "outputs": [
    {
     "name": "stdout",
     "output_type": "stream",
     "text": [
      "Unique edges:\n",
      " [[0 1]\n",
      " [0 2]\n",
      " [0 3]\n",
      " [0 5]\n",
      " [1 2]\n",
      " [1 4]\n",
      " [2 3]\n",
      " [2 4]\n",
      " [2 5]\n",
      " [2 6]\n",
      " [2 7]\n",
      " [4 5]\n",
      " [4 7]\n",
      " [5 6]\n",
      " [5 7]\n",
      " [5 8]\n",
      " [6 7]\n",
      " [7 8]]\n",
      "Number of unique edges: 18\n"
     ]
    }
   ],
   "source": [
    "triangles = np.array([\n",
    "    [0, 1, 2],\n",
    "    [2, 3, 0],\n",
    "    [1, 2, 4],\n",
    "    [2, 4, 5],\n",
    "    [0, 2, 5],\n",
    "    [5, 6, 2],\n",
    "    [4, 5, 7],\n",
    "    [2, 7, 5],\n",
    "    [6, 7, 2],\n",
    "    [7, 8, 5]\n",
    "])\n",
    "\n",
    "# Extract all edges from each triangle\n",
    "# Each triangle gives edges (a,b), (b,c), (c,a)\n",
    "edges = np.vstack([\n",
    "    triangles[:, [0,1]],\n",
    "    triangles[:, [1,2]],\n",
    "    triangles[:, [2,0]]\n",
    "])\n",
    "\n",
    "# Normalize order (smallest first) so (a,b) and (b,a) are the same\n",
    "edges = np.sort(edges, axis=1)\n",
    "\n",
    "# Keep only unique edges\n",
    "unique_edges = np.unique(edges, axis=0)\n",
    "\n",
    "print(\"Unique edges:\\n\", unique_edges)\n",
    "print(\"Number of unique edges:\", len(unique_edges))"
   ]
  },
  {
   "cell_type": "markdown",
   "metadata": {},
   "source": [
    "#### 74. Given a sorted array C that corresponds to a bincount, how to produce an array A such that np.bincount(A) == C? (★★★)"
   ]
  },
  {
   "cell_type": "code",
   "execution_count": 106,
   "metadata": {},
   "outputs": [
    {
     "name": "stdout",
     "output_type": "stream",
     "text": [
      "C: [0 2 1 0 3]\n",
      "Reconstructed A: [1 1 2 4 4 4]\n",
      "Check: [0 2 1 0 3]\n"
     ]
    }
   ],
   "source": [
    "C = np.array([0, 2, 1, 0, 3])\n",
    "\n",
    "\n",
    "A = np.repeat(np.arange(len(C)), C)\n",
    "\n",
    "print(\"C:\", C)\n",
    "print(\"Reconstructed A:\", A)\n",
    "print(\"Check:\", np.bincount(A))"
   ]
  },
  {
   "cell_type": "markdown",
   "metadata": {},
   "source": [
    "#### 75. How to compute averages using a sliding window over an array? (★★★)"
   ]
  },
  {
   "cell_type": "code",
   "execution_count": 107,
   "metadata": {},
   "outputs": [
    {
     "name": "stdout",
     "output_type": "stream",
     "text": [
      "Sliding averages: [2. 3. 4. 5. 6.]\n"
     ]
    }
   ],
   "source": [
    "x = np.array([1, 2, 3, 4, 5, 6, 7])\n",
    "window = 3  # window size\n",
    "\n",
    "# Use convolution with a uniform kernel\n",
    "weights = np.ones(window) / window\n",
    "moving_avg = np.convolve(x, weights, mode=\"valid\")\n",
    "\n",
    "print(\"Sliding averages:\", moving_avg)"
   ]
  },
  {
   "cell_type": "markdown",
   "metadata": {},
   "source": [
    "#### 76. Consider a one-dimensional array Z, build a two-dimensional array whose first row is (Z[0],Z[1],Z[2]) and each subsequent row is  shifted by 1 (last row should be (Z[-3],Z[-2],Z[-1]) (★★★)"
   ]
  },
  {
   "cell_type": "code",
   "execution_count": 108,
   "metadata": {},
   "outputs": [
    {
     "name": "stdout",
     "output_type": "stream",
     "text": [
      "[[ 1  2  3]\n",
      " [ 2  3  4]\n",
      " [ 3  4  5]\n",
      " [ 4  5  6]\n",
      " [ 5  6  7]\n",
      " [ 6  7  8]\n",
      " [ 7  8  9]\n",
      " [ 8  9 10]]\n"
     ]
    }
   ],
   "source": [
    "Z = np.arange(1, 11) \n",
    "\n",
    "R = sliding_window_view(Z, 3)\n",
    "\n",
    "print(R)"
   ]
  },
  {
   "cell_type": "markdown",
   "metadata": {},
   "source": [
    "#### 77. How to negate a boolean, or to change the sign of a float inplace? (★★★)"
   ]
  },
  {
   "cell_type": "code",
   "execution_count": 110,
   "metadata": {},
   "outputs": [
    {
     "name": "stdout",
     "output_type": "stream",
     "text": [
      "[-1.   2.5 -3.3]\n"
     ]
    }
   ],
   "source": [
    "\n",
    "X = np.array([1.0, -2.5, 3.3])\n",
    "\n",
    "np.negative(X, out=X)\n",
    "print(X)"
   ]
  },
  {
   "cell_type": "markdown",
   "metadata": {},
   "source": [
    "#### 78. Consider 2 sets of points P0,P1 describing lines (2d) and a point p, how to compute distance from p to each line i (P0[i],P1[i])? (★★★)"
   ]
  },
  {
   "cell_type": "code",
   "execution_count": null,
   "metadata": {},
   "outputs": [
    {
     "name": "stdout",
     "output_type": "stream",
     "text": [
      "[1. 1.]\n"
     ]
    }
   ],
   "source": [
    "\n",
    "def point_to_lines_distance(P0, P1, p):\n",
    "  \n",
    "    P0 = np.asarray(P0)\n",
    "    P1 = np.asarray(P1)\n",
    "    p  = np.asarray(p)\n",
    "\n",
    "    d = P1 - P0          # line direction (m,2)\n",
    "    diff = p - P0        # vector from P0 to p (m,2)\n",
    "\n",
    "    cross = d[:,0]*diff[:,1] - d[:,1]*diff[:,0]\n",
    "    denom = np.linalg.norm(d, axis=1)\n",
    "\n",
    "    return np.abs(cross) / denom\n",
    "\n",
    "# Two lines: (0,0)-(1,0) and (0,0)-(0,1)\n",
    "P0 = np.array([[0,0],[0,0]])\n",
    "P1 = np.array([[1,0],[0,1]])\n",
    "\n",
    "# Point\n",
    "p = np.array([1,1])\n",
    "\n",
    "distances = point_to_lines_distance(P0, P1, p)\n",
    "print(distances)"
   ]
  },
  {
   "cell_type": "markdown",
   "metadata": {},
   "source": [
    "#### 79. Consider 2 sets of points P0,P1 describing lines (2d) and a set of points P, how to compute distance from each point j (P[j]) to each line i (P0[i],P1[i])? (★★★)"
   ]
  },
  {
   "cell_type": "code",
   "execution_count": 114,
   "metadata": {},
   "outputs": [
    {
     "name": "stdout",
     "output_type": "stream",
     "text": [
      "[[1. 0. 2.]\n",
      " [1. 2. 0.]]\n"
     ]
    }
   ],
   "source": [
    "def point_line_distances(P0, P1, P):\n",
    " \n",
    "    P0 = np.asarray(P0)\n",
    "    P1 = np.asarray(P1)\n",
    "    P = np.asarray(P)\n",
    "\n",
    "    # line directions\n",
    "    d = P1 - P0   # shape (m,2)\n",
    "\n",
    "    # differences P0 - P[j], broadcast to (m,n,2)\n",
    "    diff = P0[:, None, :] - P[None, :, :]  \n",
    "\n",
    "    cross = d[:, None, 0]*diff[:,:,1] - d[:, None, 1]*diff[:,:,0]\n",
    "\n",
    "    # line lengths\n",
    "    denom = np.linalg.norm(d, axis=1)[:, None]\n",
    "\n",
    "    return np.abs(cross) / denom\n",
    "\n",
    "P0 = np.array([[0,0],[0,0]])\n",
    "P1 = np.array([[1,0],[0,1]])\n",
    "\n",
    "# Three points\n",
    "P  = np.array([[1,1],[2,0],[0,2]])\n",
    "\n",
    "dist = point_line_distances(P0, P1, P)\n",
    "print(dist)"
   ]
  },
  {
   "cell_type": "markdown",
   "metadata": {},
   "source": [
    "#### 80. Consider an arbitrary array, write a function that extract a subpart with a fixed shape and centered on a given element (pad with a `fill` value when necessary) (★★★)"
   ]
  },
  {
   "cell_type": "code",
   "execution_count": 112,
   "metadata": {},
   "outputs": [
    {
     "name": "stdout",
     "output_type": "stream",
     "text": [
      "Array Z:\n",
      " [[ 1  2  3  4]\n",
      " [ 5  6  7  8]\n",
      " [ 9 10 11 12]\n",
      " [13 14 15 16]]\n",
      "\n",
      "Subarray centered at (0,0):\n",
      " [[-1 -1 -1]\n",
      " [-1  1  2]\n",
      " [-1  5  6]]\n",
      "\n",
      "Subarray centered at (2,2):\n",
      " [[ 6  7  8]\n",
      " [10 11 12]\n",
      " [14 15 16]]\n"
     ]
    }
   ],
   "source": [
    "def extract_centered(Z, center, shape, fill=0):\n",
    "    center = np.asarray(center)\n",
    "    shape = np.asarray(shape)\n",
    "\n",
    "    # Compute half sizes\n",
    "    half = shape // 2\n",
    "\n",
    "    result = np.full(shape, fill, dtype=Z.dtype)\n",
    "\n",
    "    # Define input slice\n",
    "    start_in = np.maximum(center - half, 0)\n",
    "    end_in   = np.minimum(center + half + (shape % 2), Z.shape)\n",
    "\n",
    "    # Define where to place it in the result\n",
    "    start_out = np.maximum(half - center, 0)\n",
    "    end_out   = start_out + (end_in - start_in)\n",
    "\n",
    "    # Copy into result\n",
    "    result[tuple(slice(s, e) for s, e in zip(start_out, end_out))] = \\\n",
    "        Z[tuple(slice(s, e) for s, e in zip(start_in, end_in))]\n",
    "\n",
    "    return result\n",
    "Z = np.arange(1, 17).reshape(4, 4)\n",
    "print(\"Array Z:\\n\", Z)\n",
    "\n",
    "# Extract a 3x3 window centered at (0,0), pad with -1\n",
    "sub = extract_centered(Z, center=(0, 0), shape=(3, 3), fill=-1)\n",
    "print(\"\\nSubarray centered at (0,0):\\n\", sub)\n",
    "\n",
    "# Extract a 3x3 window centered at (2,2), pad with 0\n",
    "sub2 = extract_centered(Z, center=(2, 2), shape=(3, 3), fill=0)\n",
    "print(\"\\nSubarray centered at (2,2):\\n\", sub2)"
   ]
  },
  {
   "cell_type": "markdown",
   "metadata": {},
   "source": [
    "#### 81. Consider an array Z = [1,2,3,4,5,6,7,8,9,10,11,12,13,14], how to generate an array R = [[1,2,3,4], [2,3,4,5], [3,4,5,6], ..., [11,12,13,14]]? (★★★)"
   ]
  },
  {
   "cell_type": "code",
   "execution_count": null,
   "metadata": {},
   "outputs": [
    {
     "name": "stdout",
     "output_type": "stream",
     "text": [
      "[[ 1  2  3  4]\n",
      " [ 2  3  4  5]\n",
      " [ 3  4  5  6]\n",
      " [ 4  5  6  7]\n",
      " [ 5  6  7  8]\n",
      " [ 6  7  8  9]\n",
      " [ 7  8  9 10]\n",
      " [ 8  9 10 11]\n",
      " [ 9 10 11 12]\n",
      " [10 11 12 13]\n",
      " [11 12 13 14]]\n"
     ]
    }
   ],
   "source": [
    "from numpy.lib.stride_tricks import sliding_window_view\n",
    "\n",
    "Z =np.array([1,2,3,4,5,6,7,8,9,10,11,12,13,14])\n",
    "\n",
    "R = sliding_window_view(Z, 4)\n",
    "print(R)\n"
   ]
  },
  {
   "cell_type": "markdown",
   "metadata": {},
   "source": [
    "#### 82. Compute a matrix rank (★★★)"
   ]
  },
  {
   "cell_type": "code",
   "execution_count": null,
   "metadata": {},
   "outputs": [
    {
     "name": "stdout",
     "output_type": "stream",
     "text": [
      "2\n"
     ]
    }
   ],
   "source": [
    "z = np.array([[1, 2, 3],\n",
    "              [4, 5, 6],\n",
    "              [7, 8, 9]])\n",
    "\n",
    "rank = np.linalg.matrix_rank(z)\n",
    "print(rank)"
   ]
  },
  {
   "cell_type": "markdown",
   "metadata": {},
   "source": [
    "#### 83. How to find the most frequent value in an array?"
   ]
  },
  {
   "cell_type": "code",
   "execution_count": 98,
   "metadata": {},
   "outputs": [
    {
     "name": "stdout",
     "output_type": "stream",
     "text": [
      "[67 56 78 67 80 67 90 72 86 67]\n",
      "frequent value: 67\n"
     ]
    }
   ],
   "source": [
    "marks=np.array([67,56,78,67,80,67,90,72,86,67])\n",
    "print(marks)\n",
    "\n",
    "vals, counts = np.unique(marks, return_counts=True)\n",
    "\n",
    "frequent = vals[np.argmax(counts)]\n",
    "print(\"frequent value:\", frequent)\n"
   ]
  },
  {
   "cell_type": "markdown",
   "metadata": {},
   "source": [
    "#### 84. Extract all the contiguous 3x3 blocks from a random 10x10 matrix (★★★)"
   ]
  },
  {
   "cell_type": "code",
   "execution_count": 94,
   "metadata": {},
   "outputs": [
    {
     "name": "stdout",
     "output_type": "stream",
     "text": [
      "(8, 8, 3, 3)\n",
      "[[0 0 7 3 3 0 6 8 3 2]\n",
      " [2 5 6 3 1 5 7 6 8 9]\n",
      " [6 3 6 4 4 5 6 7 3 4]\n",
      " [0 0 1 3 6 6 4 2 5 4]\n",
      " [9 9 5 8 9 4 4 8 0 8]\n",
      " [4 2 6 1 8 3 1 1 1 8]\n",
      " [0 3 7 7 7 3 0 7 8 6]\n",
      " [8 8 7 1 5 3 7 0 9 8]\n",
      " [0 8 6 5 7 0 4 0 3 4]\n",
      " [8 9 6 3 5 4 1 3 2 8]]\n",
      "Block at (0,0):\n",
      " [[0 0 7]\n",
      " [2 5 6]\n",
      " [6 3 6]]\n",
      "Block at (7,7):\n",
      " [[0 9 8]\n",
      " [0 3 4]\n",
      " [3 2 8]]\n"
     ]
    }
   ],
   "source": [
    "from numpy.lib.stride_tricks import sliding_window_view\n",
    "A = np.random.randint(0, 10, (10, 10))\n",
    "\n",
    "blocks = sliding_window_view(A, (3, 3))\n",
    "\n",
    "print(blocks.shape)\n",
    "\n",
    "print(A)\n",
    "print(\"Block at (0,0):\\n\", blocks[0,0])\n",
    "print(\"Block at (7,7):\\n\", blocks[7,7])\n"
   ]
  },
  {
   "cell_type": "markdown",
   "metadata": {},
   "source": [
    "#### 85. Create a 2D array subclass such that Z[i,j] == Z[j,i] (★★★)"
   ]
  },
  {
   "cell_type": "code",
   "execution_count": 91,
   "metadata": {},
   "outputs": [
    {
     "name": "stdout",
     "output_type": "stream",
     "text": [
      "[[0 5 0 0]\n",
      " [5 0 0 0]\n",
      " [0 0 0 0]\n",
      " [0 0 0 0]]\n"
     ]
    }
   ],
   "source": [
    "class SymmetricArray(np.ndarray):\n",
    "    \"\"\"A square 2D ndarray subclass that enforces Z[i,j] == Z[j,i].\"\"\"\n",
    "\n",
    "    def __new__(cls, input_array):\n",
    "        arr = np.asarray(input_array)\n",
    "        if arr.ndim != 2 or arr.shape[0] != arr.shape[1]:\n",
    "            raise ValueError(\"SymmetricArray requires a square 2D array\")\n",
    "\n",
    "        # Make a copy and view it as the subclass\n",
    "        obj = arr.copy().view(cls)\n",
    "\n",
    "        # enforce initial symmetry\n",
    "        obj._enforce_symmetry()\n",
    "        return obj\n",
    "\n",
    "    def __array_finalize__(self, obj):\n",
    "        if obj is None:\n",
    "            return\n",
    "        if self.ndim == 2 and self.shape[0] != self.shape[1]:\n",
    "            raise ValueError(\"SymmetricArray must be square\")\n",
    "\n",
    "    def __setitem__(self, key, value):\n",
    "        # normal assignment\n",
    "        super().__setitem__(key, value)\n",
    "        # then enforce symmetry\n",
    "        self._enforce_symmetry()\n",
    "\n",
    "    def _enforce_symmetry(self):\n",
    "        \"\"\"Make array symmetric by copying upper triangle into lower.\"\"\"\n",
    "        # use plain ndarray ops to avoid re-entering __setitem__\n",
    "        arr = np.asarray(self)\n",
    "        upper = np.triu(arr)\n",
    "        sym = upper + upper.T - np.diag(np.diag(arr))\n",
    "        np.ndarray.__setitem__(self, slice(None), sym)  # bypass our __setitem__\n",
    "\n",
    "\n",
    "# ---- Example ----\n",
    "Z = SymmetricArray(np.zeros((4,4), dtype=int))\n",
    "Z[0, 1] = 5\n",
    "print(Z)    "
   ]
  },
  {
   "cell_type": "markdown",
   "metadata": {},
   "source": [
    "#### 86. Consider a set of p matrices wich shape (n,n) and a set of p vectors with shape (n,1). How to compute the sum of of the p matrix products at once? (result has shape (n,1)) (★★★)"
   ]
  },
  {
   "cell_type": "code",
   "execution_count": 85,
   "metadata": {},
   "outputs": [
    {
     "name": "stdout",
     "output_type": "stream",
     "text": [
      "(3, 1)\n"
     ]
    }
   ],
   "source": [
    "p, n = 5, 3\n",
    "A = np.random.randn(p, n, n)   # shape (p, n, n)\n",
    "x = np.random.randn(p, n, 1)   # shape (p, n, 1)\n",
    "\n",
    "# Sum of matrix-vector products\n",
    "y = np.einsum('pij,pjk->ik', A, x)\n",
    "print(y.shape) "
   ]
  },
  {
   "cell_type": "markdown",
   "metadata": {},
   "source": [
    "#### 87. Consider a 16x16 array, how to get the block-sum (block size is 4x4)? (★★★)"
   ]
  },
  {
   "cell_type": "code",
   "execution_count": null,
   "metadata": {},
   "outputs": [
    {
     "name": "stdout",
     "output_type": "stream",
     "text": [
      "(4, 4)\n",
      "[[ 408  472  536  600]\n",
      " [1432 1496 1560 1624]\n",
      " [2456 2520 2584 2648]\n",
      " [3480 3544 3608 3672]]\n"
     ]
    }
   ],
   "source": [
    "arr = np.arange(16*16).reshape(16, 16)\n",
    "\n",
    "block_size = 4\n",
    "\n",
    "# Reshape into 4D: (num_blocks_row, block_size, num_blocks_col, block_size)\n",
    "reshaped = arr.reshape(16//block_size, block_size, 16//block_size, block_size)\n",
    "\n",
    "block_sum = reshaped.sum(axis=(1, 3)) # Sum over block dimensions\n",
    "\n",
    "print(block_sum.shape)  # (4, 4)\n",
    "print(block_sum)"
   ]
  },
  {
   "cell_type": "markdown",
   "metadata": {},
   "source": [
    "#### 88. How to implement the Game of Life using numpy arrays? (★★★)"
   ]
  },
  {
   "cell_type": "code",
   "execution_count": 127,
   "metadata": {},
   "outputs": [
    {
     "data": {
      "image/png": "[encoded data removed]",
      "text/plain": [
       "<Figure size 640x480 with 1 Axes>"
      ]
     },
     "metadata": {},
     "output_type": "display_data"
    }
   ],
   "source": [
    "import matplotlib.pyplot as plt\n",
    "\n",
    "import matplotlib.animation as animation\n",
    "\n",
    "rows, cols = 50, 50\n",
    "\n",
    "# Random initial state (0 = dead, 1 = alive)\n",
    "grid = np.random.randint(2, size=(rows, cols))\n",
    "\n",
    "def update(frame_num, img, grid):\n",
    "    # Copy the grid to compute next state\n",
    "    new_grid = grid.copy()\n",
    "    \n",
    "    # Iterate through each cell\n",
    "    for r in range(rows):\n",
    "        for c in range(cols):\n",
    "            # Count alive neighbors\n",
    "            total = np.sum(grid[max(0, r-1):min(r+2, rows),\n",
    "                                max(0, c-1):min(c+2, cols)]) - grid[r, c]\n",
    "            \n",
    "            # Apply Conway's rules\n",
    "            if grid[r, c] == 1 and (total < 2 or total > 3):\n",
    "                new_grid[r, c] = 0\n",
    "            elif grid[r, c] == 0 and total == 3:\n",
    "                new_grid[r, c] = 1\n",
    "    \n",
    "    # Update the grid and image\n",
    "    img.set_data(new_grid)\n",
    "    grid[:] = new_grid[:]\n",
    "    return img\n",
    "\n",
    "fig, ax = plt.subplots()\n",
    "img = ax.imshow(grid, cmap='binary')\n",
    "ani = animation.FuncAnimation(fig, update, fargs=(img, grid), frames=200, interval=100, blit=False)\n",
    "\n"
   ]
  },
  {
   "cell_type": "markdown",
   "metadata": {},
   "source": [
    "#### 89. How to get the n largest values of an array (★★★)"
   ]
  },
  {
   "cell_type": "code",
   "execution_count": 83,
   "metadata": {},
   "outputs": [
    {
     "name": "stdout",
     "output_type": "stream",
     "text": [
      "[15 17 27]\n",
      "[27 17 15]\n"
     ]
    }
   ],
   "source": [
    "arr = np.array([17, 3, 7, 1, 27, 8, 15])\n",
    "\n",
    "n = 3\n",
    "indices = np.argsort(arr)[-n:]     # indices of n largest\n",
    "largest = arr[indices]             \n",
    "print(largest)                     \n",
    "print(largest[::-1])"
   ]
  },
  {
   "cell_type": "markdown",
   "metadata": {},
   "source": [
    "#### 90. Given an arbitrary number of vectors, build the cartesian product (every combinations of every item) (★★★)"
   ]
  },
  {
   "cell_type": "code",
   "execution_count": 128,
   "metadata": {},
   "outputs": [
    {
     "name": "stdout",
     "output_type": "stream",
     "text": [
      "[[1 3 5]\n",
      " [1 3 6]\n",
      " [1 4 5]\n",
      " [1 4 6]\n",
      " [2 3 5]\n",
      " [2 3 6]\n",
      " [2 4 5]\n",
      " [2 4 6]]\n"
     ]
    }
   ],
   "source": [
    "from itertools import product\n",
    "\n",
    "v1 = [1, 2]\n",
    "v2 = [3, 4]\n",
    "v3 = [5, 6]\n",
    "\n",
    "# Cartesian product\n",
    "cartesian = np.array(list(product(v1, v2, v3)))\n",
    "print(cartesian)"
   ]
  },
  {
   "cell_type": "markdown",
   "metadata": {},
   "source": [
    "#### 91. How to create a record array from a regular array? (★★★)"
   ]
  },
  {
   "cell_type": "code",
   "execution_count": 82,
   "metadata": {},
   "outputs": [
    {
     "name": "stdout",
     "output_type": "stream",
     "text": [
      "[(1, 4) (2, 5) (3, 6)]\n",
      "[1 2 3]\n"
     ]
    },
    {
     "name": "stderr",
     "output_type": "stream",
     "text": [
      "C:\\Users\\dorice asami\\AppData\\Local\\Temp\\ipykernel_31404\\2083587125.py:4: DeprecationWarning: numpy.core is deprecated and has been renamed to numpy._core. The numpy._core namespace contains private NumPy internals and its use is discouraged, as NumPy internals can change without warning in any release. In practice, most real-world usage of numpy.core is to access functionality in the public NumPy API. If that is the case, use the public NumPy API. If not, you are using NumPy internals. If you would still like to access an internal attribute, use numpy._core.records.\n",
      "  record = np.core.records.fromarrays(arr, names='a, b, c')\n"
     ]
    }
   ],
   "source": [
    "arr = np.array([[1, 2, 3], [4, 5, 6]])\n",
    "\n",
    "# Convert to record array with field names\n",
    "record = np.core.records.fromarrays(arr, names='a, b, c')\n",
    "\n",
    "print(record)\n",
    "print(record.a)"
   ]
  },
  {
   "cell_type": "markdown",
   "metadata": {},
   "source": [
    "#### 92. Consider a large vector Z, compute Z to the power of 3 using 3 different methods (★★★)"
   ]
  },
  {
   "cell_type": "code",
   "execution_count": null,
   "metadata": {},
   "outputs": [
    {
     "name": "stdout",
     "output_type": "stream",
     "text": [
      "[0.0769948  0.03511983 0.15944979 ... 0.18635457 0.0029993  0.00480485]\n"
     ]
    }
   ],
   "source": [
    "z= np.random.rand(9**5)\n",
    "\n",
    "# Method 2: Using np.power\n",
    "pow = np.power(z, 3)\n",
    "print(pow)\n",
    "\n",
    "# Method 1: Using the power operator (**)\n",
    "pow = z ** 3\n",
    "print(pow)\n",
    "\n",
    "# Method 3: In-place multiplication\n",
    "pow = z.copy()\n",
    "pow *= z\n",
    "pow *= z\n",
    "\n",
    "print(pow)\n",
    "\n"
   ]
  },
  {
   "cell_type": "markdown",
   "metadata": {},
   "source": [
    "#### 93. Consider two arrays A and B of shape (8,3) and (2,2). How to find rows of A that contain elements of each row of B regardless of the order of the elements in B? (★★★)"
   ]
  },
  {
   "cell_type": "code",
   "execution_count": 75,
   "metadata": {},
   "outputs": [
    {
     "name": "stdout",
     "output_type": "stream",
     "text": [
      "Rows in A containing [1 2]:\n",
      "[[[1 2 3]\n",
      "  [4 5 6]\n",
      "  [2 3 1]\n",
      "  [7 8 9]\n",
      "  [3 2 5]\n",
      "  [6 7 8]\n",
      "  [1 5 9]\n",
      "  [2 4 6]]]\n",
      "Rows in A containing [2 5]:\n",
      "[[[1 2 3]\n",
      "  [4 5 6]\n",
      "  [2 3 1]\n",
      "  [7 8 9]\n",
      "  [3 2 5]\n",
      "  [6 7 8]\n",
      "  [1 5 9]\n",
      "  [2 4 6]]]\n"
     ]
    }
   ],
   "source": [
    "A = np.array([\n",
    "    [1, 2, 3],\n",
    "    [4, 5, 6],\n",
    "    [2, 3, 1],\n",
    "    [7, 8, 9],\n",
    "    [3, 2, 5],\n",
    "    [6, 7, 8],\n",
    "    [1, 5, 9],\n",
    "    [2, 4, 6]\n",
    "])\n",
    "\n",
    "B = np.array([\n",
    "    [1, 2],\n",
    "    [2, 5]\n",
    "])\n",
    "\n",
    "matches = []\n",
    "\n",
    "for rowB in B:\n",
    "    mask = np.all(np.isin(rowB, A), axis=None)  \n",
    "    rows = A[mask]\n",
    "    matches.append(rows)\n",
    "\n",
    "for i, rowB in enumerate(B):\n",
    "    print(f\"Rows in A containing {rowB}:\")\n",
    "    print(matches[i])\n",
    "\n"
   ]
  },
  {
   "cell_type": "markdown",
   "metadata": {},
   "source": [
    "#### 94. Considering a 10x3 matrix, extract rows with unequal values (e.g. [2,2,3]) (★★★)"
   ]
  },
  {
   "cell_type": "code",
   "execution_count": 60,
   "metadata": {},
   "outputs": [
    {
     "name": "stdout",
     "output_type": "stream",
     "text": [
      "[[ 2  2  3]\n",
      " [ 4  3  5]\n",
      " [12 11 15]\n",
      " [ 6  7  6]\n",
      " [ 3  4  5]\n",
      " [ 9  5  1]]\n"
     ]
    }
   ],
   "source": [
    "arr = np.array([[1,1,1],[2,2,3],[4,3,5],[12,11,15],[5,5,5],[6,7,6],[3,4,5],[3,3,3],[6,6,6],[9,5,1]])\n",
    "arr\n",
    "values= np.any(arr != arr[:, [0]], axis=1)\n",
    "result = arr[values]\n",
    "\n",
    "print(result)"
   ]
  },
  {
   "cell_type": "markdown",
   "metadata": {},
   "source": [
    "#### 95. Convert a vector of ints into a matrix binary representation (★★★)"
   ]
  },
  {
   "cell_type": "code",
   "execution_count": 51,
   "metadata": {},
   "outputs": [
    {
     "name": "stdout",
     "output_type": "stream",
     "text": [
      "[[0 0 0 1 1 1]\n",
      " [0 0 0 1 0 1]\n",
      " [0 0 0 1 0 0]\n",
      " [0 0 0 1 1 0]\n",
      " [0 0 1 0 0 1]\n",
      " [0 0 0 0 1 0]]\n"
     ]
    }
   ],
   "source": [
    "p= np.array([7,5,4,6,9,2])\n",
    "\n",
    "def binary_matrix(p, width=None):\n",
    "\n",
    "    if width is None:\n",
    "        width = int(np.ceil(np.log2(np.max(p)+1)))\n",
    "    return ((p[:, None] & (1 << np.arange(width)[::-1])) > 0).astype(int)\n",
    "\n",
    "result= binary_matrix(p, width=6)\n",
    "print(result)"
   ]
  },
  {
   "cell_type": "markdown",
   "metadata": {},
   "source": [
    "#### 96. Given a two dimensional array, how to extract unique rows? (★★★)"
   ]
  },
  {
   "cell_type": "code",
   "execution_count": 30,
   "metadata": {},
   "outputs": [
    {
     "name": "stdout",
     "output_type": "stream",
     "text": [
      "[[2 3 4]\n",
      " [5 6 7]\n",
      " [9 1 8]]\n"
     ]
    }
   ],
   "source": [
    "arr= np.array([[2,3,4],[5,6,7],[2,3,4],[9,1,8]])\n",
    "\n",
    "extr = np.unique(arr, axis=0) #extraxt new row\n",
    "\n",
    "print(extr)"
   ]
  },
  {
   "cell_type": "markdown",
   "metadata": {},
   "source": [
    "#### 97. Considering 2 vectors A & B, write the einsum equivalent of inner, outer, sum, and mul function (★★★)"
   ]
  },
  {
   "cell_type": "code",
   "execution_count": 117,
   "metadata": {},
   "outputs": [
    {
     "name": "stdout",
     "output_type": "stream",
     "text": [
      "inner: 32\n",
      "outer:\n",
      " [[ 4  5  6]\n",
      " [ 8 10 12]\n",
      " [12 15 18]]\n",
      "sum of A: 6\n",
      "elementwise mul: [ 4 10 18]\n"
     ]
    }
   ],
   "source": [
    "A = np.array([1, 2, 3])\n",
    "B = np.array([4, 5, 6])\n",
    "\n",
    "# inner\n",
    "inner = np.einsum('i,i->', A, B)\n",
    "print(\"inner:\", inner) \n",
    "\n",
    "# outer\n",
    "outer = np.einsum('i,j->ij', A, B)\n",
    "print(\"outer:\\n\", outer)\n",
    "\n",
    "# sum of elements\n",
    "sumA = np.einsum('i->', A)\n",
    "print(\"sum of A:\", sumA)\n",
    "\n",
    "# multiplication\n",
    "\n",
    "mul = np.einsum('i,i->i', A, B)\n",
    "print(\"elementwise mul:\", mul)\n"
   ]
  },
  {
   "cell_type": "markdown",
   "metadata": {},
   "source": [
    "#### 98. Considering a path described by two vectors (X,Y), how to sample it using equidistant samples (★★★)?"
   ]
  },
  {
   "cell_type": "code",
   "execution_count": 118,
   "metadata": {},
   "outputs": [
    {
     "name": "stdout",
     "output_type": "stream",
     "text": [
      "Resampled X: [0.         0.44444444 0.88888889 1.33333333 1.77777778 2.22222222\n",
      " 2.66666667 3.11111111 3.55555556 4.        ]\n",
      "Resampled Y: [0.         0.88888889 1.77777778 1.33333333 0.44444444 0.44444444\n",
      " 1.33333333 1.77777778 0.88888889 0.        ]\n"
     ]
    }
   ],
   "source": [
    "def resample_path(X, Y, num_samples):\n",
    "\n",
    "    X, Y = np.asarray(X), np.asarray(Y)\n",
    "    \n",
    "    # 1. Compute distances between consecutive points\n",
    "    dX = np.diff(X)\n",
    "    dY = np.diff(Y)\n",
    "    seg_lengths = np.sqrt(dX**2 + dY**2)\n",
    "    \n",
    "    # 2. Cumulative arc length\n",
    "    arc = np.concatenate([[0], np.cumsum(seg_lengths)])\n",
    "    \n",
    "    # 3. Target arc positions (equidistant)\n",
    "    arc_new = np.linspace(0, arc[-1], num_samples)\n",
    "    \n",
    "    # 4. Interpolate X and Y with respect to arc length\n",
    "    Xs = np.interp(arc_new, arc, X)\n",
    "    Ys = np.interp(arc_new, arc, Y)\n",
    "    \n",
    "    return Xs, Ys\n",
    "\n",
    "X = [0, 1, 2, 3, 4]\n",
    "Y = [0, 2, 0, 2, 0]\n",
    "\n",
    "Xs, Ys = resample_path(X, Y, num_samples=10)\n",
    "\n",
    "print(\"Resampled X:\", Xs)\n",
    "print(\"Resampled Y:\", Ys)"
   ]
  },
  {
   "cell_type": "markdown",
   "metadata": {},
   "source": [
    "#### 99. Given an integer n and a 2D array X, select from X the rows which can be interpreted as draws from a multinomial distribution with n degrees, i.e., the rows which only contain integers and which sum to n. (★★★)"
   ]
  },
  {
   "cell_type": "code",
   "execution_count": 119,
   "metadata": {},
   "outputs": [
    {
     "name": "stdout",
     "output_type": "stream",
     "text": [
      "[[2. 3. 0.]\n",
      " [3. 2. 0.]]\n"
     ]
    }
   ],
   "source": [
    "def select_multinomial_rows(X, n):\n",
    "\n",
    "    X = np.asarray(X)\n",
    "\n",
    "    # 1. Check for integer values\n",
    "    is_int = np.all(np.floor(X) == X, axis=1)\n",
    "\n",
    "    # 2. Check row sums\n",
    "    sums_n = np.sum(X, axis=1) == n\n",
    "\n",
    "    # 3. Combine conditions\n",
    "    mask = is_int & sums_n\n",
    "\n",
    "    return X[mask]\n",
    "\n",
    "X = np.array([\n",
    "    [2, 3, 0],\n",
    "    [1.5, 2.5, 1],\n",
    "    [3, 2, 0],\n",
    "    [0, 1, 2]\n",
    "])\n",
    "\n",
    "n = 5\n",
    "selected = select_multinomial_rows(X, n)\n",
    "print(selected)"
   ]
  },
  {
   "cell_type": "markdown",
   "metadata": {},
   "source": [
    "#### 100. Compute bootstrapped 95% confidence intervals for the mean of a 1D array X (i.e., resample the elements of an array with replacement N times, compute the mean of each sample, and then compute percentiles over the means). (★★★)"
   ]
  },
  {
   "cell_type": "code",
   "execution_count": 121,
   "metadata": {},
   "outputs": [
    {
     "name": "stdout",
     "output_type": "stream",
     "text": [
      "Mean: 8.29, 95% CI: [4.57, 12.14]\n"
     ]
    }
   ],
   "source": [
    "def bootstrap_mean_ci(X, N=10000, ci=95, random_state=None):\n",
    "\n",
    "    X = np.asarray(X)\n",
    "    rng = np.random.default_rng(random_state)\n",
    "\n",
    "    # Resample N times with replacement\n",
    "    boot_samples = rng.choice(X, size=(N, len(X)), replace=True)\n",
    "\n",
    "    # Compute mean of each bootstrap sample\n",
    "    boot_means = np.mean(boot_samples, axis=1)\n",
    "\n",
    "    # Compute percentiles\n",
    "    alpha = 100 - ci\n",
    "    ci_lower, ci_upper = np.percentile(boot_means, [alpha/2, 100 - alpha/2])\n",
    "\n",
    "    return np.mean(X), ci_lower, ci_upper\n",
    "\n",
    "X = np.array([2, 3, 5, 7, 11, 13, 17])\n",
    "mean, lower, upper = bootstrap_mean_ci(X, N=10000, ci=95, random_state=42)\n",
    "print(f\"Mean: {mean:.2f}, 95% CI: [{lower:.2f}, {upper:.2f}]\")"
   ]
  },
  {
   "cell_type": "code",
   "execution_count": null,
   "metadata": {},
   "outputs": [],
   "source": []
  }
 ],
 "metadata": {
  "kernelspec": {
   "display_name": "dorice",
   "language": "python",
   "name": "python3"
  },
  "language_info": {
   "codemirror_mode": {
    "name": "ipython",
    "version": 3
   },
   "file_extension": ".py",
   "mimetype": "text/x-python",
   "name": "python",
   "nbconvert_exporter": "python",
   "pygments_lexer": "ipython3",
   "version": "3.13.6"
  }
 },
 "nbformat": 4,
 "nbformat_minor": 4
}
