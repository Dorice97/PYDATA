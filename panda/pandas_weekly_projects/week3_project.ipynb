{
 "cells": [
  {
   "cell_type": "code",
   "execution_count": 2,
   "id": "9e9f8e79",
   "metadata": {},
   "outputs": [],
   "source": [
    "import numpy as np\n",
    "import pandas as pd\n",
    "import matplotlib.pyplot as plt\n",
    "\n",
    "import seaborn as sns\n",
    "from scipy.stats import gaussian_kde\n"
   ]
  },
  {
   "cell_type": "code",
   "execution_count": 3,
   "id": "17c89270",
   "metadata": {},
   "outputs": [],
   "source": [
    "import matplotlib.image as mpimg\n",
    "from matplotlib.offsetbox import OffsetImage, AnnotationBbox"
   ]
  },
  {
   "cell_type": "code",
   "execution_count": 4,
   "id": "0086f2e5",
   "metadata": {},
   "outputs": [],
   "source": [
    "url = \"https://raw.githubusercontent.com/rfordatascience/tidytuesday/master/data/2020/2020-04-07/tdf_winners.csv\"\n",
    "\n",
    "df1= pd.read_csv(url)"
   ]
  },
  {
   "cell_type": "code",
   "execution_count": 6,
   "id": "c13afbbf",
   "metadata": {},
   "outputs": [
    {
     "name": "stdout",
     "output_type": "stream",
     "text": [
      "<class 'pandas.core.frame.DataFrame'>\n",
      "RangeIndex: 106 entries, 0 to 105\n",
      "Data columns (total 19 columns):\n",
      " #   Column         Non-Null Count  Dtype  \n",
      "---  ------         --------------  -----  \n",
      " 0   edition        106 non-null    int64  \n",
      " 1   start_date     106 non-null    object \n",
      " 2   winner_name    106 non-null    object \n",
      " 3   winner_team    106 non-null    object \n",
      " 4   distance       106 non-null    float64\n",
      " 5   time_overall   98 non-null     float64\n",
      " 6   time_margin    98 non-null     float64\n",
      " 7   stage_wins     106 non-null    int64  \n",
      " 8   stages_led     106 non-null    int64  \n",
      " 9   height         66 non-null     float64\n",
      " 10  weight         67 non-null     float64\n",
      " 11  age            106 non-null    int64  \n",
      " 12  born           106 non-null    object \n",
      " 13  died           56 non-null     object \n",
      " 14  full_name      46 non-null     object \n",
      " 15  nickname       74 non-null     object \n",
      " 16  birth_town     106 non-null    object \n",
      " 17  birth_country  106 non-null    object \n",
      " 18  nationality    106 non-null    object \n",
      "dtypes: float64(5), int64(4), object(10)\n",
      "memory usage: 15.9+ KB\n"
     ]
    }
   ],
   "source": [
    "df1.info()"
   ]
  },
  {
   "cell_type": "code",
   "execution_count": 7,
   "id": "974b8fd3",
   "metadata": {},
   "outputs": [
    {
     "data": {
      "text/html": [
       "<div>\n",
       "<style scoped>\n",
       "    .dataframe tbody tr th:only-of-type {\n",
       "        vertical-align: middle;\n",
       "    }\n",
       "\n",
       "    .dataframe tbody tr th {\n",
       "        vertical-align: top;\n",
       "    }\n",
       "\n",
       "    .dataframe thead th {\n",
       "        text-align: right;\n",
       "    }\n",
       "</style>\n",
       "<table border=\"1\" class=\"dataframe\">\n",
       "  <thead>\n",
       "    <tr style=\"text-align: right;\">\n",
       "      <th></th>\n",
       "      <th>edition</th>\n",
       "      <th>start_date</th>\n",
       "      <th>winner_name</th>\n",
       "      <th>winner_team</th>\n",
       "      <th>distance</th>\n",
       "      <th>time_overall</th>\n",
       "      <th>time_margin</th>\n",
       "      <th>stage_wins</th>\n",
       "      <th>stages_led</th>\n",
       "      <th>height</th>\n",
       "      <th>weight</th>\n",
       "      <th>age</th>\n",
       "      <th>born</th>\n",
       "      <th>died</th>\n",
       "      <th>full_name</th>\n",
       "      <th>nickname</th>\n",
       "      <th>birth_town</th>\n",
       "      <th>birth_country</th>\n",
       "      <th>nationality</th>\n",
       "    </tr>\n",
       "  </thead>\n",
       "  <tbody>\n",
       "    <tr>\n",
       "      <th>0</th>\n",
       "      <td>1</td>\n",
       "      <td>1903-07-01</td>\n",
       "      <td>Maurice Garin</td>\n",
       "      <td>La Française</td>\n",
       "      <td>2428.0</td>\n",
       "      <td>94.553889</td>\n",
       "      <td>2.989167</td>\n",
       "      <td>3</td>\n",
       "      <td>6</td>\n",
       "      <td>1.62</td>\n",
       "      <td>60.0</td>\n",
       "      <td>32</td>\n",
       "      <td>1871-03-03</td>\n",
       "      <td>1957-02-19</td>\n",
       "      <td>NaN</td>\n",
       "      <td>The Little Chimney-sweep</td>\n",
       "      <td>Arvier</td>\n",
       "      <td>Italy</td>\n",
       "      <td>France</td>\n",
       "    </tr>\n",
       "    <tr>\n",
       "      <th>1</th>\n",
       "      <td>2</td>\n",
       "      <td>1904-07-02</td>\n",
       "      <td>Henri Cornet</td>\n",
       "      <td>Conte</td>\n",
       "      <td>2428.0</td>\n",
       "      <td>96.098611</td>\n",
       "      <td>2.270556</td>\n",
       "      <td>1</td>\n",
       "      <td>3</td>\n",
       "      <td>NaN</td>\n",
       "      <td>NaN</td>\n",
       "      <td>19</td>\n",
       "      <td>1884-08-04</td>\n",
       "      <td>1941-03-18</td>\n",
       "      <td>NaN</td>\n",
       "      <td>Le rigolo (The joker)</td>\n",
       "      <td>Desvres</td>\n",
       "      <td>France</td>\n",
       "      <td>France</td>\n",
       "    </tr>\n",
       "    <tr>\n",
       "      <th>2</th>\n",
       "      <td>3</td>\n",
       "      <td>1905-07-09</td>\n",
       "      <td>Louis Trousselier</td>\n",
       "      <td>Peugeot–Wolber</td>\n",
       "      <td>2994.0</td>\n",
       "      <td>NaN</td>\n",
       "      <td>NaN</td>\n",
       "      <td>5</td>\n",
       "      <td>10</td>\n",
       "      <td>NaN</td>\n",
       "      <td>NaN</td>\n",
       "      <td>24</td>\n",
       "      <td>1881-06-29</td>\n",
       "      <td>1939-04-24</td>\n",
       "      <td>NaN</td>\n",
       "      <td>Levaloy / Trou-trou</td>\n",
       "      <td>Paris</td>\n",
       "      <td>France</td>\n",
       "      <td>France</td>\n",
       "    </tr>\n",
       "    <tr>\n",
       "      <th>3</th>\n",
       "      <td>4</td>\n",
       "      <td>1906-07-04</td>\n",
       "      <td>René Pottier</td>\n",
       "      <td>Peugeot–Wolber</td>\n",
       "      <td>4637.0</td>\n",
       "      <td>NaN</td>\n",
       "      <td>NaN</td>\n",
       "      <td>5</td>\n",
       "      <td>12</td>\n",
       "      <td>NaN</td>\n",
       "      <td>NaN</td>\n",
       "      <td>27</td>\n",
       "      <td>1879-06-05</td>\n",
       "      <td>1907-01-25</td>\n",
       "      <td>NaN</td>\n",
       "      <td>NaN</td>\n",
       "      <td>Moret-sur-Loing</td>\n",
       "      <td>France</td>\n",
       "      <td>France</td>\n",
       "    </tr>\n",
       "    <tr>\n",
       "      <th>4</th>\n",
       "      <td>5</td>\n",
       "      <td>1907-07-08</td>\n",
       "      <td>Lucien Petit-Breton</td>\n",
       "      <td>Peugeot–Wolber</td>\n",
       "      <td>4488.0</td>\n",
       "      <td>NaN</td>\n",
       "      <td>NaN</td>\n",
       "      <td>2</td>\n",
       "      <td>5</td>\n",
       "      <td>NaN</td>\n",
       "      <td>NaN</td>\n",
       "      <td>24</td>\n",
       "      <td>1882-10-18</td>\n",
       "      <td>1917-12-20</td>\n",
       "      <td>Lucien Georges Mazan</td>\n",
       "      <td>Lucien Petit-Breton</td>\n",
       "      <td>Plessé</td>\n",
       "      <td>France</td>\n",
       "      <td>France</td>\n",
       "    </tr>\n",
       "  </tbody>\n",
       "</table>\n",
       "</div>"
      ],
      "text/plain": [
       "   edition  start_date          winner_name     winner_team  distance  \\\n",
       "0        1  1903-07-01        Maurice Garin    La Française    2428.0   \n",
       "1        2  1904-07-02         Henri Cornet           Conte    2428.0   \n",
       "2        3  1905-07-09    Louis Trousselier  Peugeot–Wolber    2994.0   \n",
       "3        4  1906-07-04         René Pottier  Peugeot–Wolber    4637.0   \n",
       "4        5  1907-07-08  Lucien Petit-Breton  Peugeot–Wolber    4488.0   \n",
       "\n",
       "   time_overall  time_margin  stage_wins  stages_led  height  weight  age  \\\n",
       "0     94.553889     2.989167           3           6    1.62    60.0   32   \n",
       "1     96.098611     2.270556           1           3     NaN     NaN   19   \n",
       "2           NaN          NaN           5          10     NaN     NaN   24   \n",
       "3           NaN          NaN           5          12     NaN     NaN   27   \n",
       "4           NaN          NaN           2           5     NaN     NaN   24   \n",
       "\n",
       "         born        died             full_name                  nickname  \\\n",
       "0  1871-03-03  1957-02-19                   NaN  The Little Chimney-sweep   \n",
       "1  1884-08-04  1941-03-18                   NaN     Le rigolo (The joker)   \n",
       "2  1881-06-29  1939-04-24                   NaN       Levaloy / Trou-trou   \n",
       "3  1879-06-05  1907-01-25                   NaN                       NaN   \n",
       "4  1882-10-18  1917-12-20  Lucien Georges Mazan       Lucien Petit-Breton   \n",
       "\n",
       "        birth_town birth_country nationality  \n",
       "0           Arvier         Italy      France  \n",
       "1          Desvres        France      France  \n",
       "2            Paris        France      France  \n",
       "3  Moret-sur-Loing        France      France  \n",
       "4           Plessé        France      France  "
      ]
     },
     "execution_count": 7,
     "metadata": {},
     "output_type": "execute_result"
    }
   ],
   "source": [
    "df1.head()"
   ]
  },
  {
   "cell_type": "code",
   "execution_count": 8,
   "id": "074ee85c",
   "metadata": {},
   "outputs": [
    {
     "data": {
      "text/html": [
       "<div>\n",
       "<style scoped>\n",
       "    .dataframe tbody tr th:only-of-type {\n",
       "        vertical-align: middle;\n",
       "    }\n",
       "\n",
       "    .dataframe tbody tr th {\n",
       "        vertical-align: top;\n",
       "    }\n",
       "\n",
       "    .dataframe thead th {\n",
       "        text-align: right;\n",
       "    }\n",
       "</style>\n",
       "<table border=\"1\" class=\"dataframe\">\n",
       "  <thead>\n",
       "    <tr style=\"text-align: right;\">\n",
       "      <th></th>\n",
       "      <th>edition</th>\n",
       "      <th>distance</th>\n",
       "      <th>time_overall</th>\n",
       "      <th>time_margin</th>\n",
       "      <th>stage_wins</th>\n",
       "      <th>stages_led</th>\n",
       "      <th>height</th>\n",
       "      <th>weight</th>\n",
       "      <th>age</th>\n",
       "    </tr>\n",
       "  </thead>\n",
       "  <tbody>\n",
       "    <tr>\n",
       "      <th>count</th>\n",
       "      <td>106.000000</td>\n",
       "      <td>106.000000</td>\n",
       "      <td>98.000000</td>\n",
       "      <td>98.000000</td>\n",
       "      <td>106.000000</td>\n",
       "      <td>106.000000</td>\n",
       "      <td>66.000000</td>\n",
       "      <td>67.000000</td>\n",
       "      <td>106.000000</td>\n",
       "    </tr>\n",
       "    <tr>\n",
       "      <th>mean</th>\n",
       "      <td>53.500000</td>\n",
       "      <td>4212.064151</td>\n",
       "      <td>125.754983</td>\n",
       "      <td>0.267727</td>\n",
       "      <td>2.735849</td>\n",
       "      <td>10.792453</td>\n",
       "      <td>1.778788</td>\n",
       "      <td>69.253731</td>\n",
       "      <td>27.716981</td>\n",
       "    </tr>\n",
       "    <tr>\n",
       "      <th>std</th>\n",
       "      <td>30.743563</td>\n",
       "      <td>704.284160</td>\n",
       "      <td>41.559391</td>\n",
       "      <td>0.476194</td>\n",
       "      <td>1.842885</td>\n",
       "      <td>5.307169</td>\n",
       "      <td>0.056989</td>\n",
       "      <td>6.592795</td>\n",
       "      <td>3.354470</td>\n",
       "    </tr>\n",
       "    <tr>\n",
       "      <th>min</th>\n",
       "      <td>1.000000</td>\n",
       "      <td>2428.000000</td>\n",
       "      <td>82.086667</td>\n",
       "      <td>0.002222</td>\n",
       "      <td>0.000000</td>\n",
       "      <td>1.000000</td>\n",
       "      <td>1.610000</td>\n",
       "      <td>52.000000</td>\n",
       "      <td>19.000000</td>\n",
       "    </tr>\n",
       "    <tr>\n",
       "      <th>25%</th>\n",
       "      <td>27.250000</td>\n",
       "      <td>3657.875000</td>\n",
       "      <td>92.601597</td>\n",
       "      <td>0.050833</td>\n",
       "      <td>1.000000</td>\n",
       "      <td>6.250000</td>\n",
       "      <td>1.740000</td>\n",
       "      <td>64.500000</td>\n",
       "      <td>26.000000</td>\n",
       "    </tr>\n",
       "    <tr>\n",
       "      <th>50%</th>\n",
       "      <td>53.500000</td>\n",
       "      <td>4155.500000</td>\n",
       "      <td>115.026806</td>\n",
       "      <td>0.101667</td>\n",
       "      <td>2.000000</td>\n",
       "      <td>12.000000</td>\n",
       "      <td>1.770000</td>\n",
       "      <td>69.000000</td>\n",
       "      <td>28.000000</td>\n",
       "    </tr>\n",
       "    <tr>\n",
       "      <th>75%</th>\n",
       "      <td>79.750000</td>\n",
       "      <td>4652.500000</td>\n",
       "      <td>142.678472</td>\n",
       "      <td>0.249931</td>\n",
       "      <td>4.000000</td>\n",
       "      <td>14.000000</td>\n",
       "      <td>1.820000</td>\n",
       "      <td>74.000000</td>\n",
       "      <td>30.000000</td>\n",
       "    </tr>\n",
       "    <tr>\n",
       "      <th>max</th>\n",
       "      <td>106.000000</td>\n",
       "      <td>5745.000000</td>\n",
       "      <td>238.740278</td>\n",
       "      <td>2.989167</td>\n",
       "      <td>8.000000</td>\n",
       "      <td>22.000000</td>\n",
       "      <td>1.900000</td>\n",
       "      <td>88.000000</td>\n",
       "      <td>36.000000</td>\n",
       "    </tr>\n",
       "  </tbody>\n",
       "</table>\n",
       "</div>"
      ],
      "text/plain": [
       "          edition     distance  time_overall  time_margin  stage_wins  \\\n",
       "count  106.000000   106.000000     98.000000    98.000000  106.000000   \n",
       "mean    53.500000  4212.064151    125.754983     0.267727    2.735849   \n",
       "std     30.743563   704.284160     41.559391     0.476194    1.842885   \n",
       "min      1.000000  2428.000000     82.086667     0.002222    0.000000   \n",
       "25%     27.250000  3657.875000     92.601597     0.050833    1.000000   \n",
       "50%     53.500000  4155.500000    115.026806     0.101667    2.000000   \n",
       "75%     79.750000  4652.500000    142.678472     0.249931    4.000000   \n",
       "max    106.000000  5745.000000    238.740278     2.989167    8.000000   \n",
       "\n",
       "       stages_led     height     weight         age  \n",
       "count  106.000000  66.000000  67.000000  106.000000  \n",
       "mean    10.792453   1.778788  69.253731   27.716981  \n",
       "std      5.307169   0.056989   6.592795    3.354470  \n",
       "min      1.000000   1.610000  52.000000   19.000000  \n",
       "25%      6.250000   1.740000  64.500000   26.000000  \n",
       "50%     12.000000   1.770000  69.000000   28.000000  \n",
       "75%     14.000000   1.820000  74.000000   30.000000  \n",
       "max     22.000000   1.900000  88.000000   36.000000  "
      ]
     },
     "execution_count": 8,
     "metadata": {},
     "output_type": "execute_result"
    }
   ],
   "source": [
    "df1.describe()"
   ]
  },
  {
   "cell_type": "markdown",
   "id": "39f3d65b",
   "metadata": {},
   "source": [
    "1.The winning time and how far the runner up is, i.e. how long did it take to win, with every edition. So in a sense checking, are there cyclist getting better bikes, or are they getting lazier\n",
    "\n"
   ]
  },
  {
   "cell_type": "code",
   "execution_count": 21,
   "id": "8f22e4f6",
   "metadata": {},
   "outputs": [],
   "source": [
    "#convert time overal column to hours\n",
    "df1['time_overall'] = pd.to_timedelta(df1['time_overall'], unit='h')\n",
    "df1['time_hours'] = df1['time_overall'].dt.total_seconds() / 3600\n"
   ]
  },
  {
   "cell_type": "code",
   "execution_count": 16,
   "id": "73802c6f",
   "metadata": {},
   "outputs": [],
   "source": [
    "#convert time_margin to minutes\n",
    "df1['time_margin']= pd.to_timedelta(df1['time_margin'],unit='m')"
   ]
  },
  {
   "cell_type": "code",
   "execution_count": 13,
   "id": "b5230b2a",
   "metadata": {},
   "outputs": [
    {
     "data": {
      "text/plain": [
       "106"
      ]
     },
     "execution_count": 13,
     "metadata": {},
     "output_type": "execute_result"
    }
   ],
   "source": [
    "df1['edition'].nunique()"
   ]
  },
  {
   "cell_type": "code",
   "execution_count": 22,
   "id": "fa6f2430",
   "metadata": {},
   "outputs": [
    {
     "data": {
      "text/html": [
       "<div>\n",
       "<style scoped>\n",
       "    .dataframe tbody tr th:only-of-type {\n",
       "        vertical-align: middle;\n",
       "    }\n",
       "\n",
       "    .dataframe tbody tr th {\n",
       "        vertical-align: top;\n",
       "    }\n",
       "\n",
       "    .dataframe thead th {\n",
       "        text-align: right;\n",
       "    }\n",
       "</style>\n",
       "<table border=\"1\" class=\"dataframe\">\n",
       "  <thead>\n",
       "    <tr style=\"text-align: right;\">\n",
       "      <th></th>\n",
       "      <th>edition</th>\n",
       "      <th>start_date</th>\n",
       "      <th>winner_name</th>\n",
       "      <th>winner_team</th>\n",
       "      <th>distance</th>\n",
       "      <th>time_overall</th>\n",
       "      <th>time_margin</th>\n",
       "      <th>stage_wins</th>\n",
       "      <th>stages_led</th>\n",
       "      <th>height</th>\n",
       "      <th>weight</th>\n",
       "      <th>age</th>\n",
       "      <th>born</th>\n",
       "      <th>died</th>\n",
       "      <th>full_name</th>\n",
       "      <th>nickname</th>\n",
       "      <th>birth_town</th>\n",
       "      <th>birth_country</th>\n",
       "      <th>nationality</th>\n",
       "      <th>time_hours</th>\n",
       "    </tr>\n",
       "  </thead>\n",
       "  <tbody>\n",
       "    <tr>\n",
       "      <th>0</th>\n",
       "      <td>1</td>\n",
       "      <td>1903-07-01</td>\n",
       "      <td>Maurice Garin</td>\n",
       "      <td>La Française</td>\n",
       "      <td>2428.0</td>\n",
       "      <td>3 days 22:33:14</td>\n",
       "      <td>0 days 00:02:59.350000002</td>\n",
       "      <td>3</td>\n",
       "      <td>6</td>\n",
       "      <td>1.62</td>\n",
       "      <td>60.0</td>\n",
       "      <td>32</td>\n",
       "      <td>1871-03-03</td>\n",
       "      <td>1957-02-19</td>\n",
       "      <td>NaN</td>\n",
       "      <td>The Little Chimney-sweep</td>\n",
       "      <td>Arvier</td>\n",
       "      <td>Italy</td>\n",
       "      <td>France</td>\n",
       "      <td>94.553889</td>\n",
       "    </tr>\n",
       "    <tr>\n",
       "      <th>1</th>\n",
       "      <td>2</td>\n",
       "      <td>1904-07-02</td>\n",
       "      <td>Henri Cornet</td>\n",
       "      <td>Conte</td>\n",
       "      <td>2428.0</td>\n",
       "      <td>4 days 00:05:54.999999999</td>\n",
       "      <td>0 days 00:02:16.233333336</td>\n",
       "      <td>1</td>\n",
       "      <td>3</td>\n",
       "      <td>NaN</td>\n",
       "      <td>NaN</td>\n",
       "      <td>19</td>\n",
       "      <td>1884-08-04</td>\n",
       "      <td>1941-03-18</td>\n",
       "      <td>NaN</td>\n",
       "      <td>Le rigolo (The joker)</td>\n",
       "      <td>Desvres</td>\n",
       "      <td>France</td>\n",
       "      <td>France</td>\n",
       "      <td>96.098611</td>\n",
       "    </tr>\n",
       "    <tr>\n",
       "      <th>2</th>\n",
       "      <td>3</td>\n",
       "      <td>1905-07-09</td>\n",
       "      <td>Louis Trousselier</td>\n",
       "      <td>Peugeot–Wolber</td>\n",
       "      <td>2994.0</td>\n",
       "      <td>NaT</td>\n",
       "      <td>NaT</td>\n",
       "      <td>5</td>\n",
       "      <td>10</td>\n",
       "      <td>NaN</td>\n",
       "      <td>NaN</td>\n",
       "      <td>24</td>\n",
       "      <td>1881-06-29</td>\n",
       "      <td>1939-04-24</td>\n",
       "      <td>NaN</td>\n",
       "      <td>Levaloy / Trou-trou</td>\n",
       "      <td>Paris</td>\n",
       "      <td>France</td>\n",
       "      <td>France</td>\n",
       "      <td>NaN</td>\n",
       "    </tr>\n",
       "    <tr>\n",
       "      <th>3</th>\n",
       "      <td>4</td>\n",
       "      <td>1906-07-04</td>\n",
       "      <td>René Pottier</td>\n",
       "      <td>Peugeot–Wolber</td>\n",
       "      <td>4637.0</td>\n",
       "      <td>NaT</td>\n",
       "      <td>NaT</td>\n",
       "      <td>5</td>\n",
       "      <td>12</td>\n",
       "      <td>NaN</td>\n",
       "      <td>NaN</td>\n",
       "      <td>27</td>\n",
       "      <td>1879-06-05</td>\n",
       "      <td>1907-01-25</td>\n",
       "      <td>NaN</td>\n",
       "      <td>NaN</td>\n",
       "      <td>Moret-sur-Loing</td>\n",
       "      <td>France</td>\n",
       "      <td>France</td>\n",
       "      <td>NaN</td>\n",
       "    </tr>\n",
       "    <tr>\n",
       "      <th>4</th>\n",
       "      <td>5</td>\n",
       "      <td>1907-07-08</td>\n",
       "      <td>Lucien Petit-Breton</td>\n",
       "      <td>Peugeot–Wolber</td>\n",
       "      <td>4488.0</td>\n",
       "      <td>NaT</td>\n",
       "      <td>NaT</td>\n",
       "      <td>2</td>\n",
       "      <td>5</td>\n",
       "      <td>NaN</td>\n",
       "      <td>NaN</td>\n",
       "      <td>24</td>\n",
       "      <td>1882-10-18</td>\n",
       "      <td>1917-12-20</td>\n",
       "      <td>Lucien Georges Mazan</td>\n",
       "      <td>Lucien Petit-Breton</td>\n",
       "      <td>Plessé</td>\n",
       "      <td>France</td>\n",
       "      <td>France</td>\n",
       "      <td>NaN</td>\n",
       "    </tr>\n",
       "  </tbody>\n",
       "</table>\n",
       "</div>"
      ],
      "text/plain": [
       "   edition  start_date          winner_name     winner_team  distance  \\\n",
       "0        1  1903-07-01        Maurice Garin    La Française    2428.0   \n",
       "1        2  1904-07-02         Henri Cornet           Conte    2428.0   \n",
       "2        3  1905-07-09    Louis Trousselier  Peugeot–Wolber    2994.0   \n",
       "3        4  1906-07-04         René Pottier  Peugeot–Wolber    4637.0   \n",
       "4        5  1907-07-08  Lucien Petit-Breton  Peugeot–Wolber    4488.0   \n",
       "\n",
       "               time_overall               time_margin  stage_wins  stages_led  \\\n",
       "0           3 days 22:33:14 0 days 00:02:59.350000002           3           6   \n",
       "1 4 days 00:05:54.999999999 0 days 00:02:16.233333336           1           3   \n",
       "2                       NaT                       NaT           5          10   \n",
       "3                       NaT                       NaT           5          12   \n",
       "4                       NaT                       NaT           2           5   \n",
       "\n",
       "   height  weight  age        born        died             full_name  \\\n",
       "0    1.62    60.0   32  1871-03-03  1957-02-19                   NaN   \n",
       "1     NaN     NaN   19  1884-08-04  1941-03-18                   NaN   \n",
       "2     NaN     NaN   24  1881-06-29  1939-04-24                   NaN   \n",
       "3     NaN     NaN   27  1879-06-05  1907-01-25                   NaN   \n",
       "4     NaN     NaN   24  1882-10-18  1917-12-20  Lucien Georges Mazan   \n",
       "\n",
       "                   nickname       birth_town birth_country nationality  \\\n",
       "0  The Little Chimney-sweep           Arvier         Italy      France   \n",
       "1     Le rigolo (The joker)          Desvres        France      France   \n",
       "2       Levaloy / Trou-trou            Paris        France      France   \n",
       "3                       NaN  Moret-sur-Loing        France      France   \n",
       "4       Lucien Petit-Breton           Plessé        France      France   \n",
       "\n",
       "   time_hours  \n",
       "0   94.553889  \n",
       "1   96.098611  \n",
       "2         NaN  \n",
       "3         NaN  \n",
       "4         NaN  "
      ]
     },
     "execution_count": 22,
     "metadata": {},
     "output_type": "execute_result"
    }
   ],
   "source": [
    "df1.head()"
   ]
  },
  {
   "cell_type": "code",
   "execution_count": 20,
   "id": "e28bee0c",
   "metadata": {},
   "outputs": [
    {
     "data": {
      "text/plain": [
       "Index(['edition', 'start_date', 'winner_name', 'winner_team', 'distance',\n",
       "       'time_overall', 'time_margin', 'stage_wins', 'stages_led', 'height',\n",
       "       'weight', 'age', 'born', 'died', 'full_name', 'nickname', 'birth_town',\n",
       "       'birth_country', 'nationality'],\n",
       "      dtype='object')"
      ]
     },
     "execution_count": 20,
     "metadata": {},
     "output_type": "execute_result"
    }
   ],
   "source": [
    "df1.columns\n"
   ]
  },
  {
   "cell_type": "code",
   "execution_count": 23,
   "id": "7f8097d9",
   "metadata": {},
   "outputs": [
    {
     "data": {
      "text/plain": [
       "Text(0, 0.5, 'time_margin')"
      ]
     },
     "execution_count": 23,
     "metadata": {},
     "output_type": "execute_result"
    },
    {
     "data": {
      "image/png": "[encoded data removed]",
      "text/plain": [
       "<Figure size 1200x500 with 2 Axes>"
      ]
     },
     "metadata": {},
     "output_type": "display_data"
    }
   ],
   "source": [
    "#plot a trend to see faster cyclist\n",
    "fig,ax = plt.subplots(1,2,figsize=(12,5))\n",
    "\n",
    "x=df1['edition']\n",
    "y=df1['time_hours']\n",
    "z=df1['time_margin']\n",
    "ax[0].plot(x,y,color='green', label= 'time_hours')\n",
    "ax[1].plot(x,y,color='maroon', label= 'time_margin')\n",
    "\n",
    "ax[0].legend()\n",
    "ax[1].legend()\n",
    "ax[0].set_title('time_overall over editions')\n",
    "ax[1].set_title('time_margin over editions')\n",
    "ax[0].set_xlabel('edition')\n",
    "ax[1].set_xlabel('edition')\n",
    "ax[0].set_ylabel('time hours')\n",
    "ax[1].set_ylabel('time_margin')\n"
   ]
  },
  {
   "cell_type": "markdown",
   "id": "6ec186a6",
   "metadata": {},
   "source": [
    "A box plot of the winners per stage type and comment sth. Use this image as inspiration"
   ]
  },
  {
   "cell_type": "code",
   "execution_count": 41,
   "id": "2838cede",
   "metadata": {},
   "outputs": [
    {
     "data": {
      "text/plain": [
       "Index(['edition', 'start_date', 'winner_name', 'winner_team', 'distance',\n",
       "       'time_overall', 'time_margin', 'stage_wins', 'stages_led', 'height',\n",
       "       'weight', 'age', 'born', 'died', 'full_name', 'nickname', 'birth_town',\n",
       "       'birth_country', 'nationality', 'time_hours'],\n",
       "      dtype='object')"
      ]
     },
     "execution_count": 41,
     "metadata": {},
     "output_type": "execute_result"
    }
   ],
   "source": [
    "df1.columns\n"
   ]
  },
  {
   "cell_type": "code",
   "execution_count": 58,
   "id": "4639ce41",
   "metadata": {},
   "outputs": [
    {
     "name": "stderr",
     "output_type": "stream",
     "text": [
      "C:\\Users\\dorice asami\\AppData\\Local\\Temp\\ipykernel_32872\\3999924644.py:3: FutureWarning: \n",
      "\n",
      "Passing `palette` without assigning `hue` is deprecated and will be removed in v0.14.0. Assign the `x` variable to `hue` and set `legend=False` for the same effect.\n",
      "\n",
      "  sns.boxplot(data=df1, y=\"time_hours\", x=\"stage_wins\", palette=\"Set3\",vert= False)\n",
      "C:\\Users\\dorice asami\\AppData\\Local\\Temp\\ipykernel_32872\\3999924644.py:4: UserWarning: No artists with labels found to put in legend.  Note that artists whose label start with an underscore are ignored when legend() is called with no argument.\n",
      "  plt.legend()\n"
     ]
    },
    {
     "data": {
      "image/png": "[encoded data removed]",
      "text/plain": [
       "<Figure size 1000x600 with 1 Axes>"
      ]
     },
     "metadata": {},
     "output_type": "display_data"
    }
   ],
   "source": [
    "#no culumn for stage type seen\n",
    "plt.figure(figsize=(10,6))\n",
    "sns.boxplot(data=df1, y=\"time_hours\", x=\"stage_wins\", palette=\"Set3\",vert= False)\n",
    "plt.legend()\n",
    "plt.title(\"Distribution of Winning Times by Stage Wins\")\n",
    "plt.xlabel(\"Number of Stage Wins\")\n",
    "plt.ylabel(\"Winning Time (hours)\")\n",
    "plt.show()"
   ]
  },
  {
   "cell_type": "markdown",
   "id": "9e42fd56",
   "metadata": {},
   "source": [
    "What relationship is there between a winners age and the number of stages led."
   ]
  },
  {
   "cell_type": "code",
   "execution_count": 62,
   "id": "e5ca9a88",
   "metadata": {},
   "outputs": [
    {
     "data": {
      "text/plain": [
       "<seaborn.axisgrid.FacetGrid at 0x1dd0b3f3e00>"
      ]
     },
     "execution_count": 62,
     "metadata": {},
     "output_type": "execute_result"
    },
    {
     "data": {
      "image/png": "[encoded data removed]",
      "text/plain": [
       "<Figure size 500x500 with 1 Axes>"
      ]
     },
     "metadata": {},
     "output_type": "display_data"
    }
   ],
   "source": [
    "sns.set_theme(style=\"darkgrid\")\n",
    "sns.relplot(data=df1, x=\"age\", y=\"stage_wins\")\n"
   ]
  },
  {
   "cell_type": "code",
   "execution_count": 70,
   "id": "90c8e9a7",
   "metadata": {},
   "outputs": [
    {
     "name": "stdout",
     "output_type": "stream",
     "text": [
      "Correlation between age and stage wins: -0.16318678058631836\n"
     ]
    }
   ],
   "source": [
    " #check relationship between age and stage wins\n",
    "\n",
    "correlation = df1[\"age\"].corr(df1[\"stage_wins\"])\n",
    "print(\"Correlation between age and stage wins:\", correlation)"
   ]
  },
  {
   "cell_type": "markdown",
   "id": "65cd8625",
   "metadata": {},
   "source": [
    "there is a relationship between age and stage wins\n",
    "older winners tend to win more stages while younger winners dominate in stage wins"
   ]
  },
  {
   "cell_type": "markdown",
   "id": "17101418",
   "metadata": {},
   "source": [
    "Sort by the most recent winning and find the winner's nationality and display the top. Use this image as inspiration"
   ]
  },
  {
   "cell_type": "code",
   "execution_count": 31,
   "id": "d14d7e78",
   "metadata": {},
   "outputs": [
    {
     "name": "stdout",
     "output_type": "stream",
     "text": [
      "edition                106\n",
      "winner_name    Egan Bernal\n",
      "nationality       Colombia\n",
      "Name: 105, dtype: object\n"
     ]
    }
   ],
   "source": [
    "order=df1.sort_values(by ='edition',ascending=False)\n",
    "\n",
    "recent_winner=order.iloc[0]\n",
    "\n",
    "print(recent_winner[[ 'edition','winner_name','nationality']])"
   ]
  },
  {
   "cell_type": "code",
   "execution_count": 42,
   "id": "828be2ce",
   "metadata": {},
   "outputs": [
    {
     "data": {
      "image/png": "[encoded data removed]",
      "text/plain": [
       "<Figure size 1200x600 with 1 Axes>"
      ]
     },
     "metadata": {},
     "output_type": "display_data"
    }
   ],
   "source": [
    "plt.figure(figsize=(12,6))\n",
    "\n",
    "sns.barplot(data=order.head(3), \n",
    "            x=\"winner_name\", \n",
    "            y=\"edition\", \n",
    "            hue=\"nationality\", \n",
    "            dodge=False, palette=\"Set2\")\n",
    "\n",
    "plt.title(\"Top Three Winners by Nationality\")\n",
    "plt.xlabel(\"winner\")\n",
    "plt.ylabel(\"editions\")\n",
    "plt.legend(title=\"Nationality\")\n",
    "plt.show()"
   ]
  }
 ],
 "metadata": {
  "kernelspec": {
   "display_name": "dorice",
   "language": "python",
   "name": "python3"
  },
  "language_info": {
   "codemirror_mode": {
    "name": "ipython",
    "version": 3
   },
   "file_extension": ".py",
   "mimetype": "text/x-python",
   "name": "python",
   "nbconvert_exporter": "python",
   "pygments_lexer": "ipython3",
   "version": "3.13.6"
  }
 },
 "nbformat": 4,
 "nbformat_minor": 5
}
