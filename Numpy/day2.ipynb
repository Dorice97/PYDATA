{
 "cells": [
  {
   "cell_type": "code",
   "execution_count": 1,
   "id": "537117d4",
   "metadata": {},
   "outputs": [],
   "source": [
    "import numpy as np"
   ]
  },
  {
   "cell_type": "code",
   "execution_count": 5,
   "id": "1016f865",
   "metadata": {},
   "outputs": [
    {
     "name": "stdout",
     "output_type": "stream",
     "text": [
      "2\n",
      "[[3 3 5]\n",
      " [5 7 8]]\n"
     ]
    }
   ],
   "source": [
    "#create a 2by3\n",
    "arr=np.array([[3,3,5],[5,7,8]])\n",
    "print(array.ndim)\n",
    "print(arr)"
   ]
  },
  {
   "cell_type": "code",
   "execution_count": 6,
   "id": "12a95053",
   "metadata": {},
   "outputs": [
    {
     "name": "stdout",
     "output_type": "stream",
     "text": [
      "6\n",
      "(2, 3)\n"
     ]
    }
   ],
   "source": [
    "print(arr.size)\n",
    "print(arr.shape)"
   ]
  },
  {
   "cell_type": "code",
   "execution_count": 7,
   "id": "ed67ae73",
   "metadata": {},
   "outputs": [
    {
     "name": "stdout",
     "output_type": "stream",
     "text": [
      "arr2:[[3 3]\n",
      " [5 5]\n",
      " [7 8]]\n",
      "arr3:[[3]\n",
      " [3]\n",
      " [5]\n",
      " [5]\n",
      " [7]\n",
      " [8]]\n"
     ]
    }
   ],
   "source": [
    "arr2=arr.reshape(3,2)\n",
    "print(f\"arr2:{arr2}\")\n",
    "arr3=arr.reshape(6,1)\n",
    "print(f\"arr3:{arr3}\")"
   ]
  },
  {
   "cell_type": "code",
   "execution_count": 10,
   "id": "5b89dad3",
   "metadata": {},
   "outputs": [],
   "source": [
    "#concatination, join two or more arrays\n",
    "a = np.array([5,6,8])\n",
    "b = np.array([3,9,1])"
   ]
  },
  {
   "cell_type": "code",
   "execution_count": 11,
   "id": "1b51f182",
   "metadata": {},
   "outputs": [
    {
     "data": {
      "text/plain": [
       "array([5, 6, 8, 3, 9, 1])"
      ]
     },
     "execution_count": 11,
     "metadata": {},
     "output_type": "execute_result"
    }
   ],
   "source": [
    "np.concatenate((a,b),axis=0)"
   ]
  },
  {
   "cell_type": "code",
   "execution_count": 13,
   "id": "32263d20",
   "metadata": {},
   "outputs": [],
   "source": [
    "c= np.array([[5,6,8]])\n",
    "d = np.array([[3,9,1]])"
   ]
  },
  {
   "cell_type": "code",
   "execution_count": 12,
   "id": "662b7f85",
   "metadata": {},
   "outputs": [
    {
     "data": {
      "text/plain": [
       "array([5, 6, 8, 3, 9, 1])"
      ]
     },
     "execution_count": 12,
     "metadata": {},
     "output_type": "execute_result"
    }
   ],
   "source": [
    "np.concatenate((a,b),axis=None)"
   ]
  },
  {
   "cell_type": "code",
   "execution_count": 14,
   "id": "91b44219",
   "metadata": {},
   "outputs": [
    {
     "data": {
      "text/plain": [
       "array([[5, 6, 8, 3, 9, 1]])"
      ]
     },
     "execution_count": 14,
     "metadata": {},
     "output_type": "execute_result"
    }
   ],
   "source": [
    "np.concatenate((c,d),axis=1)"
   ]
  },
  {
   "cell_type": "code",
   "execution_count": 15,
   "id": "f1bad253",
   "metadata": {},
   "outputs": [
    {
     "data": {
      "text/plain": [
       "array([[5, 6, 8],\n",
       "       [3, 9, 1]])"
      ]
     },
     "execution_count": 15,
     "metadata": {},
     "output_type": "execute_result"
    }
   ],
   "source": [
    "np.concatenate((c,d),axis=0)"
   ]
  },
  {
   "cell_type": "code",
   "execution_count": null,
   "id": "b615c274",
   "metadata": {},
   "outputs": [],
   "source": [
    "#Broadcasting\n",
    "np.array([[10,20,30],[10,40,50],[60,70,80]])"
   ]
  }
 ],
 "metadata": {
  "kernelspec": {
   "display_name": "dorice",
   "language": "python",
   "name": "python3"
  },
  "language_info": {
   "codemirror_mode": {
    "name": "ipython",
    "version": 3
   },
   "file_extension": ".py",
   "mimetype": "text/x-python",
   "name": "python",
   "nbconvert_exporter": "python",
   "pygments_lexer": "ipython3",
   "version": "3.13.6"
  }
 },
 "nbformat": 4,
 "nbformat_minor": 5
}
