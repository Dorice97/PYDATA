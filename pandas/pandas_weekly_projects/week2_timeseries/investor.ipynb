{
 "cells": [
  {
   "cell_type": "markdown",
   "metadata": {},
   "source": [
    "# Investor - Flow of Funds - US"
   ]
  },
  {
   "cell_type": "markdown",
   "metadata": {},
   "source": [
    "### Introduction:\n",
    "\n",
    "Special thanks to: https://github.com/rgrp for sharing the dataset.\n",
    "\n",
    "### Step 1. Import the necessary libraries"
   ]
  },
  {
   "cell_type": "code",
   "execution_count": null,
   "metadata": {
    "collapsed": false
   },
   "outputs": [],
   "source": [
    "import pandas as pd\n",
    "import numpy as np\n",
    "import matplotlib.pyplot as plt\n"
   ]
  },
  {
   "cell_type": "markdown",
   "metadata": {},
   "source": [
    "### Step 2. Import the dataset from this [address](https://raw.githubusercontent.com/datasets/investor-flow-of-funds-us/master/data/weekly.csv). "
   ]
  },
  {
   "cell_type": "markdown",
   "metadata": {},
   "source": [
    "### Step 3. Assign it to a variable called "
   ]
  },
  {
   "cell_type": "code",
   "execution_count": 3,
   "metadata": {
    "collapsed": false
   },
   "outputs": [],
   "source": [
    "url = \"https://raw.githubusercontent.com/datasets/investor-flow-of-funds-us/master/data/weekly.csv\"\n",
    "\n",
    "df2=pd.read_csv(url)"
   ]
  },
  {
   "cell_type": "markdown",
   "metadata": {},
   "source": [
    "### Step 4.  What is the frequency of the dataset?"
   ]
  },
  {
   "cell_type": "code",
   "execution_count": 25,
   "metadata": {},
   "outputs": [
    {
     "data": {
      "text/html": [
       "<div>\n",
       "<style scoped>\n",
       "    .dataframe tbody tr th:only-of-type {\n",
       "        vertical-align: middle;\n",
       "    }\n",
       "\n",
       "    .dataframe tbody tr th {\n",
       "        vertical-align: top;\n",
       "    }\n",
       "\n",
       "    .dataframe thead th {\n",
       "        text-align: right;\n",
       "    }\n",
       "</style>\n",
       "<table border=\"1\" class=\"dataframe\">\n",
       "  <thead>\n",
       "    <tr style=\"text-align: right;\">\n",
       "      <th></th>\n",
       "      <th>Total Equity</th>\n",
       "      <th>Domestic Equity</th>\n",
       "      <th>World Equity</th>\n",
       "      <th>Hybrid</th>\n",
       "      <th>Total Bond</th>\n",
       "      <th>Taxable Bond</th>\n",
       "      <th>Municipal Bond</th>\n",
       "      <th>Total</th>\n",
       "    </tr>\n",
       "  </thead>\n",
       "  <tbody>\n",
       "    <tr>\n",
       "      <th>count</th>\n",
       "      <td>159.000000</td>\n",
       "      <td>50.000000</td>\n",
       "      <td>159.000000</td>\n",
       "      <td>50.000000</td>\n",
       "      <td>159.000000</td>\n",
       "      <td>50.000000</td>\n",
       "      <td>159.000000</td>\n",
       "      <td>50.000000</td>\n",
       "    </tr>\n",
       "    <tr>\n",
       "      <th>mean</th>\n",
       "      <td>7816.427673</td>\n",
       "      <td>-4908.440000</td>\n",
       "      <td>6526.301887</td>\n",
       "      <td>-648.540000</td>\n",
       "      <td>6209.238994</td>\n",
       "      <td>1170.000000</td>\n",
       "      <td>1328.345912</td>\n",
       "      <td>-4621.960000</td>\n",
       "    </tr>\n",
       "    <tr>\n",
       "      <th>std</th>\n",
       "      <td>14772.255905</td>\n",
       "      <td>4426.957647</td>\n",
       "      <td>11120.789050</td>\n",
       "      <td>1508.122623</td>\n",
       "      <td>10455.112795</td>\n",
       "      <td>6180.386825</td>\n",
       "      <td>1913.667580</td>\n",
       "      <td>9175.230856</td>\n",
       "    </tr>\n",
       "    <tr>\n",
       "      <th>min</th>\n",
       "      <td>-23041.000000</td>\n",
       "      <td>-15411.000000</td>\n",
       "      <td>-16192.000000</td>\n",
       "      <td>-5602.000000</td>\n",
       "      <td>-17891.000000</td>\n",
       "      <td>-17264.000000</td>\n",
       "      <td>-3263.000000</td>\n",
       "      <td>-37421.000000</td>\n",
       "    </tr>\n",
       "    <tr>\n",
       "      <th>25%</th>\n",
       "      <td>-3416.000000</td>\n",
       "      <td>-6394.000000</td>\n",
       "      <td>-968.500000</td>\n",
       "      <td>-1576.250000</td>\n",
       "      <td>-212.000000</td>\n",
       "      <td>-2036.000000</td>\n",
       "      <td>251.000000</td>\n",
       "      <td>-10846.750000</td>\n",
       "    </tr>\n",
       "    <tr>\n",
       "      <th>50%</th>\n",
       "      <td>6003.000000</td>\n",
       "      <td>-4591.500000</td>\n",
       "      <td>3322.000000</td>\n",
       "      <td>-567.000000</td>\n",
       "      <td>4945.000000</td>\n",
       "      <td>2996.000000</td>\n",
       "      <td>1130.000000</td>\n",
       "      <td>-2773.500000</td>\n",
       "    </tr>\n",
       "    <tr>\n",
       "      <th>75%</th>\n",
       "      <td>17217.500000</td>\n",
       "      <td>-2748.750000</td>\n",
       "      <td>11025.500000</td>\n",
       "      <td>388.250000</td>\n",
       "      <td>11387.000000</td>\n",
       "      <td>4685.500000</td>\n",
       "      <td>2077.000000</td>\n",
       "      <td>305.000000</td>\n",
       "    </tr>\n",
       "    <tr>\n",
       "      <th>max</th>\n",
       "      <td>54173.000000</td>\n",
       "      <td>5629.000000</td>\n",
       "      <td>41572.000000</td>\n",
       "      <td>2631.000000</td>\n",
       "      <td>40408.000000</td>\n",
       "      <td>17101.000000</td>\n",
       "      <td>7412.000000</td>\n",
       "      <td>10590.000000</td>\n",
       "    </tr>\n",
       "  </tbody>\n",
       "</table>\n",
       "</div>"
      ],
      "text/plain": [
       "       Total Equity  Domestic Equity  World Equity       Hybrid    Total Bond  \\\n",
       "count    159.000000        50.000000    159.000000    50.000000    159.000000   \n",
       "mean    7816.427673     -4908.440000   6526.301887  -648.540000   6209.238994   \n",
       "std    14772.255905      4426.957647  11120.789050  1508.122623  10455.112795   \n",
       "min   -23041.000000    -15411.000000 -16192.000000 -5602.000000 -17891.000000   \n",
       "25%    -3416.000000     -6394.000000   -968.500000 -1576.250000   -212.000000   \n",
       "50%     6003.000000     -4591.500000   3322.000000  -567.000000   4945.000000   \n",
       "75%    17217.500000     -2748.750000  11025.500000   388.250000  11387.000000   \n",
       "max    54173.000000      5629.000000  41572.000000  2631.000000  40408.000000   \n",
       "\n",
       "       Taxable Bond  Municipal Bond         Total  \n",
       "count     50.000000      159.000000     50.000000  \n",
       "mean    1170.000000     1328.345912  -4621.960000  \n",
       "std     6180.386825     1913.667580   9175.230856  \n",
       "min   -17264.000000    -3263.000000 -37421.000000  \n",
       "25%    -2036.000000      251.000000 -10846.750000  \n",
       "50%     2996.000000     1130.000000  -2773.500000  \n",
       "75%     4685.500000     2077.000000    305.000000  \n",
       "max    17101.000000     7412.000000  10590.000000  "
      ]
     },
     "execution_count": 25,
     "metadata": {},
     "output_type": "execute_result"
    }
   ],
   "source": [
    "df2.describe()"
   ]
  },
  {
   "cell_type": "code",
   "execution_count": 24,
   "metadata": {},
   "outputs": [],
   "source": [
    "df2.index = pd.to_datetime(df2.index)\n"
   ]
  },
  {
   "cell_type": "markdown",
   "metadata": {},
   "source": [
    "### Step 5. Set the column Date as the index."
   ]
  },
  {
   "cell_type": "code",
   "execution_count": 28,
   "metadata": {
    "collapsed": false
   },
   "outputs": [
    {
     "data": {
      "text/html": [
       "<div>\n",
       "<style scoped>\n",
       "    .dataframe tbody tr th:only-of-type {\n",
       "        vertical-align: middle;\n",
       "    }\n",
       "\n",
       "    .dataframe tbody tr th {\n",
       "        vertical-align: top;\n",
       "    }\n",
       "\n",
       "    .dataframe thead th {\n",
       "        text-align: right;\n",
       "    }\n",
       "</style>\n",
       "<table border=\"1\" class=\"dataframe\">\n",
       "  <thead>\n",
       "    <tr style=\"text-align: right;\">\n",
       "      <th></th>\n",
       "      <th>Total Equity</th>\n",
       "      <th>Domestic Equity</th>\n",
       "      <th>World Equity</th>\n",
       "      <th>Hybrid</th>\n",
       "      <th>Total Bond</th>\n",
       "      <th>Taxable Bond</th>\n",
       "      <th>Municipal Bond</th>\n",
       "      <th>Total</th>\n",
       "    </tr>\n",
       "    <tr>\n",
       "      <th>Date</th>\n",
       "      <th></th>\n",
       "      <th></th>\n",
       "      <th></th>\n",
       "      <th></th>\n",
       "      <th></th>\n",
       "      <th></th>\n",
       "      <th></th>\n",
       "      <th></th>\n",
       "    </tr>\n",
       "  </thead>\n",
       "  <tbody>\n",
       "    <tr>\n",
       "      <th>2011-10-05</th>\n",
       "      <td>-4002</td>\n",
       "      <td>-4499.0</td>\n",
       "      <td>497</td>\n",
       "      <td>-1354.0</td>\n",
       "      <td>-5828</td>\n",
       "      <td>-6258.0</td>\n",
       "      <td>430</td>\n",
       "      <td>-11184.0</td>\n",
       "    </tr>\n",
       "    <tr>\n",
       "      <th>2011-10-12</th>\n",
       "      <td>-7397</td>\n",
       "      <td>-5842.0</td>\n",
       "      <td>-1555</td>\n",
       "      <td>512.0</td>\n",
       "      <td>3954</td>\n",
       "      <td>3927.0</td>\n",
       "      <td>28</td>\n",
       "      <td>-2931.0</td>\n",
       "    </tr>\n",
       "    <tr>\n",
       "      <th>2011-10-19</th>\n",
       "      <td>-3292</td>\n",
       "      <td>-3466.0</td>\n",
       "      <td>174</td>\n",
       "      <td>1399.0</td>\n",
       "      <td>5652</td>\n",
       "      <td>5102.0</td>\n",
       "      <td>550</td>\n",
       "      <td>3759.0</td>\n",
       "    </tr>\n",
       "    <tr>\n",
       "      <th>2011-10-26</th>\n",
       "      <td>-3696</td>\n",
       "      <td>-2998.0</td>\n",
       "      <td>-698</td>\n",
       "      <td>2631.0</td>\n",
       "      <td>4910</td>\n",
       "      <td>4070.0</td>\n",
       "      <td>841</td>\n",
       "      <td>3846.0</td>\n",
       "    </tr>\n",
       "    <tr>\n",
       "      <th>2011-12-07</th>\n",
       "      <td>-7956</td>\n",
       "      <td>-5761.0</td>\n",
       "      <td>-2196</td>\n",
       "      <td>1089.0</td>\n",
       "      <td>3523</td>\n",
       "      <td>2068.0</td>\n",
       "      <td>1456</td>\n",
       "      <td>-3343.0</td>\n",
       "    </tr>\n",
       "  </tbody>\n",
       "</table>\n",
       "</div>"
      ],
      "text/plain": [
       "            Total Equity  Domestic Equity  World Equity  Hybrid  Total Bond  \\\n",
       "Date                                                                          \n",
       "2011-10-05         -4002          -4499.0           497 -1354.0       -5828   \n",
       "2011-10-12         -7397          -5842.0         -1555   512.0        3954   \n",
       "2011-10-19         -3292          -3466.0           174  1399.0        5652   \n",
       "2011-10-26         -3696          -2998.0          -698  2631.0        4910   \n",
       "2011-12-07         -7956          -5761.0         -2196  1089.0        3523   \n",
       "\n",
       "            Taxable Bond  Municipal Bond    Total  \n",
       "Date                                               \n",
       "2011-10-05       -6258.0             430 -11184.0  \n",
       "2011-10-12        3927.0              28  -2931.0  \n",
       "2011-10-19        5102.0             550   3759.0  \n",
       "2011-10-26        4070.0             841   3846.0  \n",
       "2011-12-07        2068.0            1456  -3343.0  "
      ]
     },
     "execution_count": 28,
     "metadata": {},
     "output_type": "execute_result"
    }
   ],
   "source": [
    "#was already set\n",
    "df2.head()"
   ]
  },
  {
   "cell_type": "markdown",
   "metadata": {},
   "source": [
    "### Step 6. What is the type of the index?"
   ]
  },
  {
   "cell_type": "code",
   "execution_count": 29,
   "metadata": {
    "collapsed": false
   },
   "outputs": [
    {
     "data": {
      "text/plain": [
       "pandas.core.indexes.datetimes.DatetimeIndex"
      ]
     },
     "execution_count": 29,
     "metadata": {},
     "output_type": "execute_result"
    }
   ],
   "source": [
    "type(df2.index)"
   ]
  },
  {
   "cell_type": "markdown",
   "metadata": {},
   "source": [
    "### Step 7. Set the index to a DatetimeIndex type"
   ]
  },
  {
   "cell_type": "code",
   "execution_count": null,
   "metadata": {
    "collapsed": false
   },
   "outputs": [],
   "source": []
  },
  {
   "cell_type": "markdown",
   "metadata": {},
   "source": [
    "### Step 8.  Change the frequency to monthly, sum the values and assign it to monthly."
   ]
  },
  {
   "cell_type": "code",
   "execution_count": 31,
   "metadata": {
    "collapsed": false
   },
   "outputs": [
    {
     "name": "stdout",
     "output_type": "stream",
     "text": [
      "            Total Equity  Domestic Equity  World Equity  Hybrid  Total Bond  \\\n",
      "Date                                                                          \n",
      "2011-10-31        -18387         -16805.0         -1582  3188.0        8688   \n",
      "2011-11-30             0              0.0             0     0.0           0   \n",
      "2011-12-31        -23657         -16659.0         -6999  2395.0       13817   \n",
      "2012-01-31             0              0.0             0     0.0           0   \n",
      "2012-02-29             0              0.0             0     0.0           0   \n",
      "\n",
      "            Taxable Bond  Municipal Bond   Total  \n",
      "Date                                              \n",
      "2011-10-31        6841.0            1849 -6510.0  \n",
      "2011-11-30           0.0               0     0.0  \n",
      "2011-12-31        9335.0            4483 -7443.0  \n",
      "2012-01-31           0.0               0     0.0  \n",
      "2012-02-29           0.0               0     0.0  \n"
     ]
    }
   ],
   "source": [
    "monthly = df2.resample('ME').sum()\n",
    "\n",
    "print(monthly.head())"
   ]
  },
  {
   "cell_type": "markdown",
   "metadata": {},
   "source": [
    "### Step 9. You will notice that it filled the dataFrame with months that don't have any data with NaN. Let's drop these rows."
   ]
  },
  {
   "cell_type": "code",
   "execution_count": null,
   "metadata": {
    "collapsed": false
   },
   "outputs": [],
   "source": []
  },
  {
   "cell_type": "markdown",
   "metadata": {},
   "source": [
    "### Step 10. Good, now we have the monthly data. Now change the frequency to year."
   ]
  },
  {
   "cell_type": "code",
   "execution_count": null,
   "metadata": {
    "collapsed": false
   },
   "outputs": [],
   "source": []
  },
  {
   "cell_type": "markdown",
   "metadata": {},
   "source": [
    "### BONUS: Create your own question and answer it."
   ]
  },
  {
   "cell_type": "code",
   "execution_count": null,
   "metadata": {
    "collapsed": true
   },
   "outputs": [],
   "source": []
  }
 ],
 "metadata": {
  "kernelspec": {
   "display_name": "dorice",
   "language": "python",
   "name": "python3"
  },
  "language_info": {
   "codemirror_mode": {
    "name": "ipython",
    "version": 3
   },
   "file_extension": ".py",
   "mimetype": "text/x-python",
   "name": "python",
   "nbconvert_exporter": "python",
   "pygments_lexer": "ipython3",
   "version": "3.13.6"
  }
 },
 "nbformat": 4,
 "nbformat_minor": 0
}
